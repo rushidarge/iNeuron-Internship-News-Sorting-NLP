{
  "nbformat": 4,
  "nbformat_minor": 0,
  "metadata": {
    "colab": {
      "name": "iNeuron internship v3.0",
      "provenance": []
    },
    "kernelspec": {
      "name": "python3",
      "display_name": "Python 3"
    },
    "language_info": {
      "name": "python"
    },
    "gpuClass": "standard"
  },
  "cells": [
    {
      "cell_type": "markdown",
      "source": [
        "# Getting Data"
      ],
      "metadata": {
        "id": "QldACQs_Y9O6"
      }
    },
    {
      "cell_type": "code",
      "execution_count": 1,
      "metadata": {
        "colab": {
          "base_uri": "https://localhost:8080/"
        },
        "id": "BbQZ4fW4vlFC",
        "outputId": "58ea911a-ef2c-45a0-adef-15242407056c"
      },
      "outputs": [
        {
          "output_type": "stream",
          "name": "stdout",
          "text": [
            "Writing kaggle.json\n"
          ]
        }
      ],
      "source": [
        "%%writefile kaggle.json\n",
        "{\"username\":\"rushikeshdarge\",\"key\":\"*********************************\"}"
      ]
    },
    {
      "cell_type": "code",
      "source": [
        "! pip install kaggle\n",
        "! mkdir ~/.kaggle\n",
        "! cp kaggle.json ~/.kaggle/\n",
        "! chmod 600 ~/.kaggle/kaggle.json\n",
        "! kaggle competitions download -c learn-ai-bbc\n",
        "! unzip /content/learn-ai-bbc.zip"
      ],
      "metadata": {
        "colab": {
          "base_uri": "https://localhost:8080/"
        },
        "id": "_-yDaT3fwlae",
        "outputId": "fb650d13-f822-47de-df46-fc11696058ec"
      },
      "execution_count": 2,
      "outputs": [
        {
          "output_type": "stream",
          "name": "stdout",
          "text": [
            "Looking in indexes: https://pypi.org/simple, https://us-python.pkg.dev/colab-wheels/public/simple/\n",
            "Requirement already satisfied: kaggle in /usr/local/lib/python3.7/dist-packages (1.5.12)\n",
            "Requirement already satisfied: requests in /usr/local/lib/python3.7/dist-packages (from kaggle) (2.23.0)\n",
            "Requirement already satisfied: six>=1.10 in /usr/local/lib/python3.7/dist-packages (from kaggle) (1.15.0)\n",
            "Requirement already satisfied: urllib3 in /usr/local/lib/python3.7/dist-packages (from kaggle) (1.24.3)\n",
            "Requirement already satisfied: certifi in /usr/local/lib/python3.7/dist-packages (from kaggle) (2022.6.15)\n",
            "Requirement already satisfied: tqdm in /usr/local/lib/python3.7/dist-packages (from kaggle) (4.64.0)\n",
            "Requirement already satisfied: python-dateutil in /usr/local/lib/python3.7/dist-packages (from kaggle) (2.8.2)\n",
            "Requirement already satisfied: python-slugify in /usr/local/lib/python3.7/dist-packages (from kaggle) (6.1.2)\n",
            "Requirement already satisfied: text-unidecode>=1.3 in /usr/local/lib/python3.7/dist-packages (from python-slugify->kaggle) (1.3)\n",
            "Requirement already satisfied: chardet<4,>=3.0.2 in /usr/local/lib/python3.7/dist-packages (from requests->kaggle) (3.0.4)\n",
            "Requirement already satisfied: idna<3,>=2.5 in /usr/local/lib/python3.7/dist-packages (from requests->kaggle) (2.10)\n",
            "Downloading learn-ai-bbc.zip to /content\n",
            "  0% 0.00/1.85M [00:00<?, ?B/s]\n",
            "100% 1.85M/1.85M [00:00<00:00, 150MB/s]\n",
            "Archive:  /content/learn-ai-bbc.zip\n",
            "  inflating: BBC News Sample Solution.csv  \n",
            "  inflating: BBC News Test.csv       \n",
            "  inflating: BBC News Train.csv      \n"
          ]
        }
      ]
    },
    {
      "cell_type": "code",
      "source": [
        "import pandas as pd\n",
        "import numpy as np\n",
        "import re\n",
        "import seaborn as sns\n",
        "import matplotlib.pyplot as plt\n",
        "import warnings\n",
        "warnings.filterwarnings(\"ignore\")"
      ],
      "metadata": {
        "id": "LFEPg1AMwwpN"
      },
      "execution_count": 3,
      "outputs": []
    },
    {
      "cell_type": "markdown",
      "source": [
        "# Read Data"
      ],
      "metadata": {
        "id": "8zcqkT2iZFnj"
      }
    },
    {
      "cell_type": "code",
      "source": [
        "df = pd.read_csv('/content/BBC News Train.csv')\n",
        "df.head()"
      ],
      "metadata": {
        "colab": {
          "base_uri": "https://localhost:8080/",
          "height": 206
        },
        "id": "ijb7GniMxCDq",
        "outputId": "e2b6a9d3-ef6c-4d2e-cd73-0917c64537a7"
      },
      "execution_count": 4,
      "outputs": [
        {
          "output_type": "execute_result",
          "data": {
            "text/plain": [
              "   ArticleId                                               Text  Category\n",
              "0       1833  worldcom ex-boss launches defence lawyers defe...  business\n",
              "1        154  german business confidence slides german busin...  business\n",
              "2       1101  bbc poll indicates economic gloom citizens in ...  business\n",
              "3       1976  lifestyle  governs mobile choice  faster  bett...      tech\n",
              "4        917  enron bosses in $168m payout eighteen former e...  business"
            ],
            "text/html": [
              "\n",
              "  <div id=\"df-350d79ac-9501-4386-aae7-e6054dbe4d2a\">\n",
              "    <div class=\"colab-df-container\">\n",
              "      <div>\n",
              "<style scoped>\n",
              "    .dataframe tbody tr th:only-of-type {\n",
              "        vertical-align: middle;\n",
              "    }\n",
              "\n",
              "    .dataframe tbody tr th {\n",
              "        vertical-align: top;\n",
              "    }\n",
              "\n",
              "    .dataframe thead th {\n",
              "        text-align: right;\n",
              "    }\n",
              "</style>\n",
              "<table border=\"1\" class=\"dataframe\">\n",
              "  <thead>\n",
              "    <tr style=\"text-align: right;\">\n",
              "      <th></th>\n",
              "      <th>ArticleId</th>\n",
              "      <th>Text</th>\n",
              "      <th>Category</th>\n",
              "    </tr>\n",
              "  </thead>\n",
              "  <tbody>\n",
              "    <tr>\n",
              "      <th>0</th>\n",
              "      <td>1833</td>\n",
              "      <td>worldcom ex-boss launches defence lawyers defe...</td>\n",
              "      <td>business</td>\n",
              "    </tr>\n",
              "    <tr>\n",
              "      <th>1</th>\n",
              "      <td>154</td>\n",
              "      <td>german business confidence slides german busin...</td>\n",
              "      <td>business</td>\n",
              "    </tr>\n",
              "    <tr>\n",
              "      <th>2</th>\n",
              "      <td>1101</td>\n",
              "      <td>bbc poll indicates economic gloom citizens in ...</td>\n",
              "      <td>business</td>\n",
              "    </tr>\n",
              "    <tr>\n",
              "      <th>3</th>\n",
              "      <td>1976</td>\n",
              "      <td>lifestyle  governs mobile choice  faster  bett...</td>\n",
              "      <td>tech</td>\n",
              "    </tr>\n",
              "    <tr>\n",
              "      <th>4</th>\n",
              "      <td>917</td>\n",
              "      <td>enron bosses in $168m payout eighteen former e...</td>\n",
              "      <td>business</td>\n",
              "    </tr>\n",
              "  </tbody>\n",
              "</table>\n",
              "</div>\n",
              "      <button class=\"colab-df-convert\" onclick=\"convertToInteractive('df-350d79ac-9501-4386-aae7-e6054dbe4d2a')\"\n",
              "              title=\"Convert this dataframe to an interactive table.\"\n",
              "              style=\"display:none;\">\n",
              "        \n",
              "  <svg xmlns=\"http://www.w3.org/2000/svg\" height=\"24px\"viewBox=\"0 0 24 24\"\n",
              "       width=\"24px\">\n",
              "    <path d=\"M0 0h24v24H0V0z\" fill=\"none\"/>\n",
              "    <path d=\"M18.56 5.44l.94 2.06.94-2.06 2.06-.94-2.06-.94-.94-2.06-.94 2.06-2.06.94zm-11 1L8.5 8.5l.94-2.06 2.06-.94-2.06-.94L8.5 2.5l-.94 2.06-2.06.94zm10 10l.94 2.06.94-2.06 2.06-.94-2.06-.94-.94-2.06-.94 2.06-2.06.94z\"/><path d=\"M17.41 7.96l-1.37-1.37c-.4-.4-.92-.59-1.43-.59-.52 0-1.04.2-1.43.59L10.3 9.45l-7.72 7.72c-.78.78-.78 2.05 0 2.83L4 21.41c.39.39.9.59 1.41.59.51 0 1.02-.2 1.41-.59l7.78-7.78 2.81-2.81c.8-.78.8-2.07 0-2.86zM5.41 20L4 18.59l7.72-7.72 1.47 1.35L5.41 20z\"/>\n",
              "  </svg>\n",
              "      </button>\n",
              "      \n",
              "  <style>\n",
              "    .colab-df-container {\n",
              "      display:flex;\n",
              "      flex-wrap:wrap;\n",
              "      gap: 12px;\n",
              "    }\n",
              "\n",
              "    .colab-df-convert {\n",
              "      background-color: #E8F0FE;\n",
              "      border: none;\n",
              "      border-radius: 50%;\n",
              "      cursor: pointer;\n",
              "      display: none;\n",
              "      fill: #1967D2;\n",
              "      height: 32px;\n",
              "      padding: 0 0 0 0;\n",
              "      width: 32px;\n",
              "    }\n",
              "\n",
              "    .colab-df-convert:hover {\n",
              "      background-color: #E2EBFA;\n",
              "      box-shadow: 0px 1px 2px rgba(60, 64, 67, 0.3), 0px 1px 3px 1px rgba(60, 64, 67, 0.15);\n",
              "      fill: #174EA6;\n",
              "    }\n",
              "\n",
              "    [theme=dark] .colab-df-convert {\n",
              "      background-color: #3B4455;\n",
              "      fill: #D2E3FC;\n",
              "    }\n",
              "\n",
              "    [theme=dark] .colab-df-convert:hover {\n",
              "      background-color: #434B5C;\n",
              "      box-shadow: 0px 1px 3px 1px rgba(0, 0, 0, 0.15);\n",
              "      filter: drop-shadow(0px 1px 2px rgba(0, 0, 0, 0.3));\n",
              "      fill: #FFFFFF;\n",
              "    }\n",
              "  </style>\n",
              "\n",
              "      <script>\n",
              "        const buttonEl =\n",
              "          document.querySelector('#df-350d79ac-9501-4386-aae7-e6054dbe4d2a button.colab-df-convert');\n",
              "        buttonEl.style.display =\n",
              "          google.colab.kernel.accessAllowed ? 'block' : 'none';\n",
              "\n",
              "        async function convertToInteractive(key) {\n",
              "          const element = document.querySelector('#df-350d79ac-9501-4386-aae7-e6054dbe4d2a');\n",
              "          const dataTable =\n",
              "            await google.colab.kernel.invokeFunction('convertToInteractive',\n",
              "                                                     [key], {});\n",
              "          if (!dataTable) return;\n",
              "\n",
              "          const docLinkHtml = 'Like what you see? Visit the ' +\n",
              "            '<a target=\"_blank\" href=https://colab.research.google.com/notebooks/data_table.ipynb>data table notebook</a>'\n",
              "            + ' to learn more about interactive tables.';\n",
              "          element.innerHTML = '';\n",
              "          dataTable['output_type'] = 'display_data';\n",
              "          await google.colab.output.renderOutput(dataTable, element);\n",
              "          const docLink = document.createElement('div');\n",
              "          docLink.innerHTML = docLinkHtml;\n",
              "          element.appendChild(docLink);\n",
              "        }\n",
              "      </script>\n",
              "    </div>\n",
              "  </div>\n",
              "  "
            ]
          },
          "metadata": {},
          "execution_count": 4
        }
      ]
    },
    {
      "cell_type": "code",
      "source": [
        "df.shape"
      ],
      "metadata": {
        "colab": {
          "base_uri": "https://localhost:8080/"
        },
        "id": "i8P8d7ygxNAm",
        "outputId": "2c0f44cd-a86e-4e8a-d613-5d800f08fb01"
      },
      "execution_count": 5,
      "outputs": [
        {
          "output_type": "execute_result",
          "data": {
            "text/plain": [
              "(1490, 3)"
            ]
          },
          "metadata": {},
          "execution_count": 5
        }
      ]
    },
    {
      "cell_type": "code",
      "source": [
        "df.Category.value_counts()"
      ],
      "metadata": {
        "colab": {
          "base_uri": "https://localhost:8080/"
        },
        "id": "gT_pTZklxPIv",
        "outputId": "63a169f7-4bc1-406d-9d83-897dc74dfb6f"
      },
      "execution_count": 6,
      "outputs": [
        {
          "output_type": "execute_result",
          "data": {
            "text/plain": [
              "sport            346\n",
              "business         336\n",
              "politics         274\n",
              "entertainment    273\n",
              "tech             261\n",
              "Name: Category, dtype: int64"
            ]
          },
          "metadata": {},
          "execution_count": 6
        }
      ]
    },
    {
      "cell_type": "code",
      "source": [
        "df.isnull().sum()"
      ],
      "metadata": {
        "colab": {
          "base_uri": "https://localhost:8080/"
        },
        "id": "2Aj5KsXGxR5c",
        "outputId": "fa953386-bd12-4f48-f937-594cc1c5076b"
      },
      "execution_count": 7,
      "outputs": [
        {
          "output_type": "execute_result",
          "data": {
            "text/plain": [
              "ArticleId    0\n",
              "Text         0\n",
              "Category     0\n",
              "dtype: int64"
            ]
          },
          "metadata": {},
          "execution_count": 7
        }
      ]
    },
    {
      "cell_type": "code",
      "source": [
        "df.Text.sample(10)"
      ],
      "metadata": {
        "colab": {
          "base_uri": "https://localhost:8080/"
        },
        "id": "ZuNZ6sYzxZeH",
        "outputId": "8b7a9578-ddd5-43a6-f4bc-047935403d7a"
      },
      "execution_count": 8,
      "outputs": [
        {
          "output_type": "execute_result",
          "data": {
            "text/plain": [
              "1305    microsoft releases bumper patches microsoft ha...\n",
              "1271    ray dvd beats box office takings oscar-nominat...\n",
              "760     doors open at biggest gadget fair thousands of...\n",
              "424     deutsche attacks yukos case german investment ...\n",
              "37      yachvili savours france comeback france scrum-...\n",
              "837     pop band busted to  take a break  chart-toppin...\n",
              "488     wales hails new superstar one game into his si...\n",
              "126     gallery unveils interactive tree a christmas t...\n",
              "580     warning over us pensions deficit taxpayers may...\n",
              "998     robinson ready for difficult task england coac...\n",
              "Name: Text, dtype: object"
            ]
          },
          "metadata": {},
          "execution_count": 8
        }
      ]
    },
    {
      "cell_type": "code",
      "source": [
        "X = df.Text\n",
        "y = df.Category\n",
        "\n",
        "# split dataset\n",
        "from sklearn.model_selection import train_test_split\n",
        "X_train, X_test, y_train, y_test = train_test_split(X, y, test_size=0.10, random_state=42)"
      ],
      "metadata": {
        "id": "QezNiLB3rvAS"
      },
      "execution_count": 9,
      "outputs": []
    },
    {
      "cell_type": "code",
      "source": [
        "X_train.shape, X_test.shape, y_train.shape, y_test.shape"
      ],
      "metadata": {
        "colab": {
          "base_uri": "https://localhost:8080/"
        },
        "id": "flVOkvPxr5bT",
        "outputId": "b88e115f-b0dd-4754-fe76-8294d3e17e5e"
      },
      "execution_count": 10,
      "outputs": [
        {
          "output_type": "execute_result",
          "data": {
            "text/plain": [
              "((1341,), (149,), (1341,), (149,))"
            ]
          },
          "metadata": {},
          "execution_count": 10
        }
      ]
    },
    {
      "cell_type": "markdown",
      "source": [
        "# Pre-Processing"
      ],
      "metadata": {
        "id": "qiYLXIejZH5A"
      }
    },
    {
      "cell_type": "code",
      "source": [
        "def only_alpha(text):\n",
        "    return re.sub('[^A-Za-z0-9 ]+', '', text)"
      ],
      "metadata": {
        "id": "HCzVmWumsOin"
      },
      "execution_count": 11,
      "outputs": []
    },
    {
      "cell_type": "code",
      "source": [
        "def decontractions(phrase):\n",
        "    \"\"\"decontracted takes text and convert contractions into natural form.\n",
        "     ref: https://stackoverflow.com/questions/19790188/expanding-english-language-contractions-in-python/47091490#47091490\"\"\"\n",
        "    # specific\n",
        "    phrase = re.sub(r\"won\\'t\", \"will not\", phrase)\n",
        "    phrase = re.sub(r\"can\\'t\", \"can not\", phrase)\n",
        "    phrase = re.sub(r\"won\\’t\", \"will not\", phrase)\n",
        "    phrase = re.sub(r\"can\\’t\", \"can not\", phrase)\n",
        "\n",
        "    # general\n",
        "    phrase = re.sub(r\"n\\'t\", \" not\", phrase)\n",
        "    phrase = re.sub(r\"\\'re\", \" are\", phrase)\n",
        "    phrase = re.sub(r\"\\'s\", \" is\", phrase)\n",
        "    phrase = re.sub(r\"\\'d\", \" would\", phrase)\n",
        "    phrase = re.sub(r\"\\'ll\", \" will\", phrase)\n",
        "    phrase = re.sub(r\"\\'t\", \" not\", phrase)\n",
        "    phrase = re.sub(r\"\\'ve\", \" have\", phrase)\n",
        "    phrase = re.sub(r\"\\'m\", \" am\", phrase)\n",
        "\n",
        "    phrase = re.sub(r\"n\\’t\", \" not\", phrase)\n",
        "    phrase = re.sub(r\"\\’re\", \" are\", phrase)\n",
        "    phrase = re.sub(r\"\\’s\", \" is\", phrase)\n",
        "    phrase = re.sub(r\"\\’d\", \" would\", phrase)\n",
        "    phrase = re.sub(r\"\\’ll\", \" will\", phrase)\n",
        "    phrase = re.sub(r\"\\’t\", \" not\", phrase)\n",
        "    phrase = re.sub(r\"\\’ve\", \" have\", phrase)\n",
        "    phrase = re.sub(r\"\\’m\", \" am\", phrase)\n",
        "\n",
        "    return phrase"
      ],
      "metadata": {
        "id": "Xg2yO6Zmrd9Q"
      },
      "execution_count": 12,
      "outputs": []
    },
    {
      "cell_type": "code",
      "source": [
        "import nltk\n",
        "nltk.download('stopwords')\n",
        "#Stop words present in the library\n",
        "stopwords = nltk.corpus.stopwords.words('english')\n",
        "stopwords[0:10]"
      ],
      "metadata": {
        "colab": {
          "base_uri": "https://localhost:8080/"
        },
        "id": "Uk167Rljps6b",
        "outputId": "0e2cee0a-17ec-49d9-b77e-54628b00c1df"
      },
      "execution_count": 13,
      "outputs": [
        {
          "output_type": "stream",
          "name": "stderr",
          "text": [
            "[nltk_data] Downloading package stopwords to /root/nltk_data...\n",
            "[nltk_data]   Unzipping corpora/stopwords.zip.\n"
          ]
        },
        {
          "output_type": "execute_result",
          "data": {
            "text/plain": [
              "['i', 'me', 'my', 'myself', 'we', 'our', 'ours', 'ourselves', 'you', \"you're\"]"
            ]
          },
          "metadata": {},
          "execution_count": 13
        }
      ]
    },
    {
      "cell_type": "code",
      "source": [
        "#defining the function to remove stopwords from tokenized text\n",
        "def remove_stopwords(text):\n",
        "    text = text.split(' ')\n",
        "    output= [i for i in text if i not in stopwords]\n",
        "    return ' '.join(output)"
      ],
      "metadata": {
        "id": "DhlAt397ps3t"
      },
      "execution_count": 14,
      "outputs": []
    },
    {
      "cell_type": "code",
      "source": [
        "#importing the Stemming function from nltk library\n",
        "from nltk.stem.porter import PorterStemmer\n",
        "#defining the object for stemming\n",
        "porter_stemmer = PorterStemmer()\n",
        "\n",
        "#defining a function for stemming\n",
        "def stemming(text):\n",
        "    text = text.split(' ')\n",
        "    stem_text = [porter_stemmer.stem(word) for word in text]\n",
        "    return ' '.join(stem_text)"
      ],
      "metadata": {
        "id": "xV5kZ2erps0Z"
      },
      "execution_count": 15,
      "outputs": []
    },
    {
      "cell_type": "code",
      "source": [
        "from nltk.stem import WordNetLemmatizer\n",
        "nltk.download('wordnet')\n",
        "nltk.download('omw-1.4')\n",
        "#defining the object for Lemmatization\n",
        "wordnet_lemmatizer = WordNetLemmatizer()\n",
        "\n",
        "#defining the function for lemmatization\n",
        "def lemmatizer(text):\n",
        "    text = text.split(' ')\n",
        "    lemm_text = [wordnet_lemmatizer.lemmatize(word) for word in text]\n",
        "    return ' '.join(lemm_text)"
      ],
      "metadata": {
        "colab": {
          "base_uri": "https://localhost:8080/"
        },
        "id": "FlmUvRLytLXE",
        "outputId": "02ed949e-3761-46da-e033-13c9a415278e"
      },
      "execution_count": 16,
      "outputs": [
        {
          "output_type": "stream",
          "name": "stderr",
          "text": [
            "[nltk_data] Downloading package wordnet to /root/nltk_data...\n",
            "[nltk_data] Downloading package omw-1.4 to /root/nltk_data...\n"
          ]
        }
      ]
    },
    {
      "cell_type": "code",
      "source": [
        "def all_preprocessing(text_df):    \n",
        "    text_df = text_df.apply(lambda x : only_alpha(x))\n",
        "    text_df = text_df.apply(lambda x : x.lower())\n",
        "    text_df = text_df.apply(lambda x : decontractions(x))\n",
        "    text_df = text_df.apply(lambda x:remove_stopwords(x))\n",
        "    text_df = text_df.apply(lambda x: stemming(x))\n",
        "    text_df = text_df.apply(lambda x:lemmatizer(x))\n",
        "    return text_df"
      ],
      "metadata": {
        "id": "UVnzWJHK0BBm"
      },
      "execution_count": 17,
      "outputs": []
    },
    {
      "cell_type": "code",
      "source": [
        "process_train = all_preprocessing(X_train)\n",
        "process_test = all_preprocessing(X_test)"
      ],
      "metadata": {
        "id": "jQwX74fAtLUf"
      },
      "execution_count": 18,
      "outputs": []
    },
    {
      "cell_type": "markdown",
      "source": [
        "## TF-IDF"
      ],
      "metadata": {
        "id": "v_34mdQYt4RV"
      }
    },
    {
      "cell_type": "code",
      "source": [
        "from sklearn.feature_extraction.text import TfidfVectorizer\n",
        "vectorizer = TfidfVectorizer()\n",
        "X_train_tf = vectorizer.fit_transform(process_train.values)\n",
        "X_test_tf = vectorizer.transform(process_test.values)\n",
        "X_train_tf"
      ],
      "metadata": {
        "colab": {
          "base_uri": "https://localhost:8080/"
        },
        "id": "mHHB8eO_t4BM",
        "outputId": "8bb7d4ed-5694-4a74-cb1e-41c99570d6fa"
      },
      "execution_count": 19,
      "outputs": [
        {
          "output_type": "execute_result",
          "data": {
            "text/plain": [
              "<1341x18762 sparse matrix of type '<class 'numpy.float64'>'\n",
              "\twith 195598 stored elements in Compressed Sparse Row format>"
            ]
          },
          "metadata": {},
          "execution_count": 19
        }
      ]
    },
    {
      "cell_type": "code",
      "source": [
        "import pickle\n",
        "# save the model to disk\n",
        "filename = 'tfidf_vector.model'\n",
        "pickle.dump(vectorizer, open(filename, 'wb'))"
      ],
      "metadata": {
        "id": "xxm8YohDLDJg"
      },
      "execution_count": 20,
      "outputs": []
    },
    {
      "cell_type": "code",
      "source": [
        "from sklearn.manifold import TSNE\n",
        "tsne_model = TSNE(n_components = 2, random_state = 0)\n",
        "tsne_data = tsne_model.fit_transform(X_train_tf)"
      ],
      "metadata": {
        "id": "6eGf0EdpvPsQ"
      },
      "execution_count": 20,
      "outputs": []
    },
    {
      "cell_type": "code",
      "source": [
        "# create a dataframe from tsne\n",
        "tsne_data = np.vstack((tsne_data.T, y_train)).T\n",
        "tsne_df = pd.DataFrame(data = tsne_data,columns =(\"Dim_1\", \"Dim_2\", \"label\"))"
      ],
      "metadata": {
        "id": "1K60x0yWvPm9"
      },
      "execution_count": 21,
      "outputs": []
    },
    {
      "cell_type": "code",
      "source": [
        "# plot tsne of tf-idf\n",
        "sns.FacetGrid(tsne_df, hue =\"label\", size = 6).map(plt.scatter, 'Dim_1', 'Dim_2').add_legend()\n",
        "plt.show()"
      ],
      "metadata": {
        "colab": {
          "base_uri": "https://localhost:8080/",
          "height": 441
        },
        "id": "mtOhWrMRvqqZ",
        "outputId": "d696d445-e483-4350-8296-ad708a8a966a"
      },
      "execution_count": 22,
      "outputs": [
        {
          "output_type": "display_data",
          "data": {
            "text/plain": [
              "<Figure size 539.875x432 with 1 Axes>"
            ],
            "image/png": "[encoded data removed]"
          },
          "metadata": {
            "needs_background": "light"
          }
        }
      ]
    },
    {
      "cell_type": "code",
      "source": [
        "from sklearn.preprocessing import LabelEncoder\n",
        "le = LabelEncoder()\n",
        "le.fit(y_train)\n",
        "y_train_tr = le.transform(y_train)\n",
        "y_test_tr = le.transform(y_test)"
      ],
      "metadata": {
        "id": "Hg4nq_v41QJx"
      },
      "execution_count": 23,
      "outputs": []
    },
    {
      "cell_type": "markdown",
      "source": [
        "# Machine Learning Models"
      ],
      "metadata": {
        "id": "ZcSrUo5Ty14z"
      }
    },
    {
      "cell_type": "code",
      "source": [
        "from sklearn.metrics import classification_report, confusion_matrix\n",
        "from sklearn.linear_model import LogisticRegression\n",
        "from sklearn.tree import DecisionTreeClassifier"
      ],
      "metadata": {
        "id": "nn7INVJX14Sk"
      },
      "execution_count": 24,
      "outputs": []
    },
    {
      "cell_type": "code",
      "source": [
        "X_test_tf"
      ],
      "metadata": {
        "colab": {
          "base_uri": "https://localhost:8080/"
        },
        "id": "qHnMgOun9kxA",
        "outputId": "ad1714fe-1506-4caa-9bdd-c99251f9e00f"
      },
      "execution_count": 25,
      "outputs": [
        {
          "output_type": "execute_result",
          "data": {
            "text/plain": [
              "<149x18762 sparse matrix of type '<class 'numpy.float64'>'\n",
              "\twith 21293 stored elements in Compressed Sparse Row format>"
            ]
          },
          "metadata": {},
          "execution_count": 25
        }
      ]
    },
    {
      "cell_type": "code",
      "source": [
        "dt_clf = DecisionTreeClassifier(random_state=0).fit(X_train_tf, y_train_tr)\n",
        "print('Training score of model is',dt_clf.score(X_train_tf, y_train_tr))\n",
        "y_pred = dt_clf.predict(X_test_tf)\n",
        "print(classification_report(y_test_tr, y_pred, target_names=le.classes_))\n",
        "sns.heatmap(confusion_matrix(y_test_tr, y_pred), annot=True, linewidths=.5)\n",
        "plt.show()"
      ],
      "metadata": {
        "colab": {
          "base_uri": "https://localhost:8080/",
          "height": 495
        },
        "id": "u28QFgckt374",
        "outputId": "5df9064a-c94a-44d8-9c9f-e97807e6ebe3"
      },
      "execution_count": 26,
      "outputs": [
        {
          "output_type": "stream",
          "name": "stdout",
          "text": [
            "Training score of model is 1.0\n",
            "               precision    recall  f1-score   support\n",
            "\n",
            "     business       0.83      0.83      0.83        42\n",
            "entertainment       0.92      0.92      0.92        24\n",
            "     politics       0.81      0.75      0.78        28\n",
            "        sport       0.93      0.96      0.94        26\n",
            "         tech       0.77      0.79      0.78        29\n",
            "\n",
            "     accuracy                           0.85       149\n",
            "    macro avg       0.85      0.85      0.85       149\n",
            " weighted avg       0.85      0.85      0.85       149\n",
            "\n"
          ]
        },
        {
          "output_type": "display_data",
          "data": {
            "text/plain": [
              "<Figure size 432x288 with 2 Axes>"
            ],
            "image/png": "[encoded data removed]"
          },
          "metadata": {
            "needs_background": "light"
          }
        }
      ]
    },
    {
      "cell_type": "code",
      "source": [
        "clf = LogisticRegression(random_state=0).fit(X_train_tf, y_train_tr)\n",
        "print('Training score of model is',clf.score(X_train_tf, y_train_tr))\n",
        "y_pred = clf.predict(X_test_tf)\n",
        "print(classification_report(y_test_tr, y_pred, target_names=le.classes_))\n",
        "sns.heatmap(confusion_matrix(y_test_tr, y_pred), annot=True, linewidths=.5)\n",
        "plt.show()"
      ],
      "metadata": {
        "colab": {
          "base_uri": "https://localhost:8080/",
          "height": 491
        },
        "id": "KST7jovtvqmx",
        "outputId": "ccddc46c-ff4c-411d-ef50-2287a3e7281a"
      },
      "execution_count": 27,
      "outputs": [
        {
          "output_type": "stream",
          "name": "stdout",
          "text": [
            "Training score of model is 0.9970171513795675\n",
            "               precision    recall  f1-score   support\n",
            "\n",
            "     business       0.98      1.00      0.99        42\n",
            "entertainment       1.00      1.00      1.00        24\n",
            "     politics       1.00      0.96      0.98        28\n",
            "        sport       0.96      1.00      0.98        26\n",
            "         tech       1.00      0.97      0.98        29\n",
            "\n",
            "     accuracy                           0.99       149\n",
            "    macro avg       0.99      0.99      0.99       149\n",
            " weighted avg       0.99      0.99      0.99       149\n",
            "\n"
          ]
        },
        {
          "output_type": "display_data",
          "data": {
            "text/plain": [
              "<Figure size 432x288 with 2 Axes>"
            ],
            "image/png": "[encoded data removed]"
          },
          "metadata": {
            "needs_background": "light"
          }
        }
      ]
    },
    {
      "cell_type": "code",
      "source": [
        "# ref : https://www.geeksforgeeks.org/saving-a-machine-learning-model/\n",
        "import pickle\n",
        "# save the model to disk\n",
        "filename = 'logistic_regression.model'\n",
        "pickle.dump(clf, open(filename, 'wb'))\n",
        " \n",
        "# # load the model from disk\n",
        "# loaded_model = pickle.load(open(filename, 'rb'))"
      ],
      "metadata": {
        "id": "qoEH3f2O9XRb"
      },
      "execution_count": 70,
      "outputs": []
    },
    {
      "cell_type": "code",
      "source": [
        "new_news = '''Wipro: The IT major reported a 21 per cent decline in its June quarter net profit as higher employee-related costs pushed up the firm's overall expenses. Consolidated net profit at Rs 2,563.6 crore in April-June was 20.6 per cent, lower than Rs 3,242.6 crore net profit in the same period a year back.\n",
        "NTPC: The state-owned power giant has inked a pact with Moroccan Agency for Sustainable Energy (MASEN) for cooperation in renewable energy. It signed an MoU with MASEN for cooperation in the renewable energy sector during the 17th CII EXIM Conclave on India Africa Growth Partnership held in New Delhi from 19th-20th July 2022.'''"
      ],
      "metadata": {
        "id": "Rz7o2Y_pt33O"
      },
      "execution_count": 28,
      "outputs": []
    },
    {
      "cell_type": "code",
      "source": [
        "pre_news = all_preprocessing(pd.Series(new_news))\n",
        "vec_news = vectorizer.transform(pre_news)\n",
        "news_pred = clf.predict(vec_news)\n",
        "print('New news classified as {0} category'.format(le.classes_[news_pred][0]))"
      ],
      "metadata": {
        "colab": {
          "base_uri": "https://localhost:8080/"
        },
        "id": "37UfMiBut307",
        "outputId": "361c4ecf-4d71-4bc0-db41-ceb8aabd477a"
      },
      "execution_count": 29,
      "outputs": [
        {
          "output_type": "stream",
          "name": "stdout",
          "text": [
            "New news classified as business category\n"
          ]
        }
      ]
    },
    {
      "cell_type": "markdown",
      "source": [
        "## Prepare data for model"
      ],
      "metadata": {
        "id": "TIKOxXMGZLbC"
      }
    },
    {
      "cell_type": "code",
      "source": [
        "from tensorflow.keras.preprocessing.text import Tokenizer\n",
        "from tensorflow.keras.preprocessing.sequence import pad_sequences"
      ],
      "metadata": {
        "id": "P6a5uhv1y-fW"
      },
      "execution_count": 30,
      "outputs": []
    },
    {
      "cell_type": "code",
      "source": [
        "token = Tokenizer(num_words=10000, oov_token='unk')\n",
        "token.fit_on_texts(process_train.values)\n",
        "data_xtrain = token.texts_to_sequences(process_train.values)\n",
        "data_xtest = token.texts_to_sequences(process_test.values)"
      ],
      "metadata": {
        "id": "YuTvuLBPzE9Q"
      },
      "execution_count": 31,
      "outputs": []
    },
    {
      "cell_type": "code",
      "source": [
        "# saving tokenizer for deploying model\n",
        "# ref : https://stackoverflow.com/a/45737582\n",
        "import pickle\n",
        "\n",
        "# saving\n",
        "with open('tokenizer.pickle', 'wb') as handle:\n",
        "    pickle.dump(token, handle, protocol=pickle.HIGHEST_PROTOCOL)\n",
        "\n",
        "# # loading\n",
        "# with open('tokenizer.pickle', 'rb') as handle:\n",
        "#     token = pickle.load(handle)"
      ],
      "metadata": {
        "id": "7xSUsa7qcEj8"
      },
      "execution_count": 32,
      "outputs": []
    },
    {
      "cell_type": "code",
      "source": [
        "print('Number of unique words',len(token.word_index.keys()))"
      ],
      "metadata": {
        "colab": {
          "base_uri": "https://localhost:8080/"
        },
        "id": "1mV_mrL3zmkE",
        "outputId": "ba40386d-ab80-4606-cb90-7b3cc6f94946"
      },
      "execution_count": 33,
      "outputs": [
        {
          "output_type": "stream",
          "name": "stdout",
          "text": [
            "Number of unique words 18792\n"
          ]
        }
      ]
    },
    {
      "cell_type": "code",
      "source": [
        "leng = [len(ele) for ele in data_xtrain]\n",
        "plt.figure(figsize = (15,6))\n",
        "plt.subplot(1,2,1)\n",
        "sns.histplot(leng, bins=6)\n",
        "plt.title(\"Histogram of length of Sentences\")\n",
        "plt.xlabel(\"length\")"
      ],
      "metadata": {
        "colab": {
          "base_uri": "https://localhost:8080/",
          "height": 421
        },
        "id": "Cq_vBfFfznxv",
        "outputId": "bcd3fbde-4de0-4c5b-9bd2-9de9cd946a02"
      },
      "execution_count": 34,
      "outputs": [
        {
          "output_type": "execute_result",
          "data": {
            "text/plain": [
              "Text(0.5, 0, 'length')"
            ]
          },
          "metadata": {},
          "execution_count": 34
        },
        {
          "output_type": "display_data",
          "data": {
            "text/plain": [
              "<Figure size 1080x432 with 1 Axes>"
            ],
            "image/png": "[encoded data removed]"
          },
          "metadata": {
            "needs_background": "light"
          }
        }
      ]
    },
    {
      "cell_type": "code",
      "source": [
        "sns.kdeplot(leng)"
      ],
      "metadata": {
        "colab": {
          "base_uri": "https://localhost:8080/",
          "height": 282
        },
        "id": "LkwdvGB4-SFX",
        "outputId": "62015575-38e5-4f0d-bd14-96769ac5004b"
      },
      "execution_count": 35,
      "outputs": [
        {
          "output_type": "execute_result",
          "data": {
            "text/plain": [
              "<matplotlib.axes._subplots.AxesSubplot at 0x7f5ead835490>"
            ]
          },
          "metadata": {},
          "execution_count": 35
        },
        {
          "output_type": "display_data",
          "data": {
            "text/plain": [
              "<Figure size 432x288 with 1 Axes>"
            ],
            "image/png": "[encoded data removed]"
          },
          "metadata": {
            "needs_background": "light"
          }
        }
      ]
    },
    {
      "cell_type": "code",
      "source": [
        "for i in np.arange(0.1,1.1,0.1):\n",
        "    print('{0} Quantile is {1}'.format(int(i*100),np.quantile(leng, i)))"
      ],
      "metadata": {
        "colab": {
          "base_uri": "https://localhost:8080/"
        },
        "id": "mlncvQaSBHnt",
        "outputId": "e76cb882-5d99-49a5-ef12-e114db158389"
      },
      "execution_count": 36,
      "outputs": [
        {
          "output_type": "stream",
          "name": "stdout",
          "text": [
            "10 Quantile is 113.0\n",
            "20 Quantile is 135.0\n",
            "30 Quantile is 154.0\n",
            "40 Quantile is 173.0\n",
            "50 Quantile is 193.0\n",
            "60 Quantile is 218.0\n",
            "70 Quantile is 252.0\n",
            "80 Quantile is 287.0\n",
            "90 Quantile is 360.0\n",
            "100 Quantile is 1695.0\n"
          ]
        }
      ]
    },
    {
      "cell_type": "markdown",
      "source": [
        "* We take 85 Quantile as words which is approx 300"
      ],
      "metadata": {
        "id": "ztpniZESBSxg"
      }
    },
    {
      "cell_type": "code",
      "source": [
        "max_len = 300\n",
        "# padding\n",
        "data_xtrain_pad = pad_sequences(data_xtrain, maxlen=max_len, padding='post', dtype='int32')\n",
        "data_xtest_pad = pad_sequences(data_xtest, maxlen=max_len, padding='post', dtype='int32')"
      ],
      "metadata": {
        "id": "N_0ktiaIBNik"
      },
      "execution_count": 37,
      "outputs": []
    },
    {
      "cell_type": "code",
      "source": [
        "data_xtrain_pad.shape"
      ],
      "metadata": {
        "colab": {
          "base_uri": "https://localhost:8080/"
        },
        "id": "kyReVZAqB4kI",
        "outputId": "8d82f0ef-41bf-4d28-e3fd-8d30664085b9"
      },
      "execution_count": 38,
      "outputs": [
        {
          "output_type": "execute_result",
          "data": {
            "text/plain": [
              "(1341, 300)"
            ]
          },
          "metadata": {},
          "execution_count": 38
        }
      ]
    },
    {
      "cell_type": "code",
      "source": [
        "index = 50\n",
        "print('text: ',X_train[0][:index])\n",
        "print('\\n text to num: ',data_xtrain[0][:index])\n",
        "print('\\n num to padded: ',data_xtrain_pad[0][:index])"
      ],
      "metadata": {
        "colab": {
          "base_uri": "https://localhost:8080/"
        },
        "id": "m2UXk00CCCXi",
        "outputId": "673886fe-6f23-4e3a-b7d8-fb1e9c0a4486"
      },
      "execution_count": 39,
      "outputs": [
        {
          "output_type": "stream",
          "name": "stdout",
          "text": [
            "text:  worldcom ex-boss launches defence lawyers defendin\n",
            "\n",
            " text to num:  [1105, 806, 108, 4493, 1105, 806, 171, 693, 724, 2965, 8, 23, 198, 1656, 462, 749, 524, 4493, 471, 7137, 773, 1355, 4, 598, 749, 7138, 2015, 239, 556, 229, 565, 2, 33, 192, 133, 433, 102, 1105, 806, 821, 1400, 119, 40, 4494, 240, 171, 14, 625, 351, 422]\n",
            "\n",
            " num to padded:  [  67 1125 2968 2021   26  108    8   13   70  214  391 6158   96  119\n",
            "   39 1384  109 1105  806   92  192  255  806  610    8   40  725  806\n",
            "  456  836   92    1 2845  239  107   29 1659 2532   82   29  314    4\n",
            "  410 3107  507  500  456  726  774   54]\n"
          ]
        }
      ]
    },
    {
      "cell_type": "code",
      "source": [
        ""
      ],
      "metadata": {
        "id": "WL-HZuGi6Gf_"
      },
      "execution_count": 39,
      "outputs": []
    },
    {
      "cell_type": "markdown",
      "source": [
        "# Deep Learning Model"
      ],
      "metadata": {
        "id": "W5UGgKdtZRAJ"
      }
    },
    {
      "cell_type": "code",
      "source": [
        "from tensorflow.keras.layers import Embedding, LSTM, Input, Dense, Activation, Dropout\n",
        "from tensorflow.keras.utils import to_categorical\n",
        "from tensorflow.keras.callbacks import EarlyStopping \n",
        "from tensorflow.keras.models import Model"
      ],
      "metadata": {
        "id": "Yw7fQDRsCDKz"
      },
      "execution_count": 40,
      "outputs": []
    },
    {
      "cell_type": "code",
      "source": [
        "from sklearn.preprocessing import LabelEncoder\n",
        "lenc = LabelEncoder()\n",
        "y_train_class = lenc.fit_transform(y_train)\n",
        "y_test_class = lenc.transform(y_test)\n",
        "\n",
        "y_train_class = to_categorical(y_train_class, num_classes=5)"
      ],
      "metadata": {
        "id": "OLNeM-VzIEyC"
      },
      "execution_count": 41,
      "outputs": []
    },
    {
      "cell_type": "code",
      "source": [
        "data_xtrain_pad.shape"
      ],
      "metadata": {
        "colab": {
          "base_uri": "https://localhost:8080/"
        },
        "id": "1yyVLHYkJVXb",
        "outputId": "fc1d280b-327f-4bba-aa95-8125d53603fd"
      },
      "execution_count": 42,
      "outputs": [
        {
          "output_type": "execute_result",
          "data": {
            "text/plain": [
              "(1341, 300)"
            ]
          },
          "metadata": {},
          "execution_count": 42
        }
      ]
    },
    {
      "cell_type": "code",
      "source": [
        "embed_input = len(token.word_index.keys()) + 1"
      ],
      "metadata": {
        "id": "3VTz2RwBJa67"
      },
      "execution_count": 43,
      "outputs": []
    },
    {
      "cell_type": "code",
      "source": [
        "input = Input(shape=(max_len,))\n",
        "embed = Embedding(embed_input, 100)(input)\n",
        "lstm1 = LSTM(100, return_sequences=True, return_state=False)(embed)\n",
        "lstm2 = LSTM(64, dropout=0.2)(lstm1)\n",
        "dense1 = Dense(64)(lstm2)\n",
        "drop1 = Dropout(0.3)(dense1)\n",
        "dense2 = Dense(24)(drop1)\n",
        "dense3 = Dense(5, activation='softmax')(dense2)\n",
        "\n",
        "model = Model(inputs=input, outputs=dense3)"
      ],
      "metadata": {
        "id": "h1mc4AUGC9qE"
      },
      "execution_count": 55,
      "outputs": []
    },
    {
      "cell_type": "code",
      "source": [
        "model.summary()"
      ],
      "metadata": {
        "colab": {
          "base_uri": "https://localhost:8080/"
        },
        "id": "ruNtgb7_DtFO",
        "outputId": "7596d0f2-c48d-4b09-e1cb-19ad2c3e7eb7"
      },
      "execution_count": 56,
      "outputs": [
        {
          "output_type": "stream",
          "name": "stdout",
          "text": [
            "Model: \"model_3\"\n",
            "_________________________________________________________________\n",
            " Layer (type)                Output Shape              Param #   \n",
            "=================================================================\n",
            " input_4 (InputLayer)        [(None, 300)]             0         \n",
            "                                                                 \n",
            " embedding_3 (Embedding)     (None, 300, 100)          1879300   \n",
            "                                                                 \n",
            " lstm_6 (LSTM)               (None, 300, 100)          80400     \n",
            "                                                                 \n",
            " lstm_7 (LSTM)               (None, 64)                42240     \n",
            "                                                                 \n",
            " dense_9 (Dense)             (None, 64)                4160      \n",
            "                                                                 \n",
            " dropout_3 (Dropout)         (None, 64)                0         \n",
            "                                                                 \n",
            " dense_10 (Dense)            (None, 24)                1560      \n",
            "                                                                 \n",
            " dense_11 (Dense)            (None, 5)                 125       \n",
            "                                                                 \n",
            "=================================================================\n",
            "Total params: 2,007,785\n",
            "Trainable params: 2,007,785\n",
            "Non-trainable params: 0\n",
            "_________________________________________________________________\n"
          ]
        }
      ]
    },
    {
      "cell_type": "code",
      "source": [
        "model.compile(optimizer='adam', loss='categorical_crossentropy', metrics=['accuracy'])\n",
        "callback = EarlyStopping(monitor='val_accuracy', verbose=1, patience=3)\n",
        "\n",
        "history = model.fit(data_xtrain_pad, y_train_class, validation_split=0.1, epochs=70, use_multiprocessing=True)"
      ],
      "metadata": {
        "colab": {
          "base_uri": "https://localhost:8080/"
        },
        "id": "MyDIaA5iQua4",
        "outputId": "f7c95da0-aec2-4601-a9cd-9a3badc2b4fa"
      },
      "execution_count": 57,
      "outputs": [
        {
          "output_type": "stream",
          "name": "stdout",
          "text": [
            "Epoch 1/70\n",
            "38/38 [==============================] - 5s 51ms/step - loss: 1.5990 - accuracy: 0.2595 - val_loss: 1.5316 - val_accuracy: 0.3037\n",
            "Epoch 2/70\n",
            "38/38 [==============================] - 1s 28ms/step - loss: 1.5156 - accuracy: 0.2828 - val_loss: 1.3854 - val_accuracy: 0.3704\n",
            "Epoch 3/70\n",
            "38/38 [==============================] - 1s 28ms/step - loss: 1.3690 - accuracy: 0.3507 - val_loss: 1.4642 - val_accuracy: 0.3259\n",
            "Epoch 4/70\n",
            "38/38 [==============================] - 1s 29ms/step - loss: 1.3787 - accuracy: 0.3905 - val_loss: 1.5604 - val_accuracy: 0.3037\n",
            "Epoch 5/70\n",
            "38/38 [==============================] - 1s 29ms/step - loss: 1.2473 - accuracy: 0.3905 - val_loss: 1.3102 - val_accuracy: 0.3481\n",
            "Epoch 6/70\n",
            "38/38 [==============================] - 1s 28ms/step - loss: 1.2007 - accuracy: 0.4179 - val_loss: 1.1921 - val_accuracy: 0.3704\n",
            "Epoch 7/70\n",
            "38/38 [==============================] - 1s 29ms/step - loss: 1.1891 - accuracy: 0.4113 - val_loss: 1.2136 - val_accuracy: 0.4074\n",
            "Epoch 8/70\n",
            "38/38 [==============================] - 1s 30ms/step - loss: 1.2589 - accuracy: 0.4245 - val_loss: 1.3125 - val_accuracy: 0.4148\n",
            "Epoch 9/70\n",
            "38/38 [==============================] - 1s 29ms/step - loss: 1.3710 - accuracy: 0.3748 - val_loss: 1.7548 - val_accuracy: 0.2222\n",
            "Epoch 10/70\n",
            "38/38 [==============================] - 1s 28ms/step - loss: 1.5697 - accuracy: 0.2454 - val_loss: 1.5660 - val_accuracy: 0.2593\n",
            "Epoch 11/70\n",
            "38/38 [==============================] - 1s 29ms/step - loss: 1.5513 - accuracy: 0.2670 - val_loss: 1.5672 - val_accuracy: 0.2296\n",
            "Epoch 12/70\n",
            "38/38 [==============================] - 1s 28ms/step - loss: 1.5440 - accuracy: 0.2803 - val_loss: 1.5543 - val_accuracy: 0.2815\n",
            "Epoch 13/70\n",
            "38/38 [==============================] - 1s 29ms/step - loss: 1.5366 - accuracy: 0.2819 - val_loss: 1.4851 - val_accuracy: 0.3111\n",
            "Epoch 14/70\n",
            "38/38 [==============================] - 1s 29ms/step - loss: 1.4199 - accuracy: 0.3375 - val_loss: 1.4578 - val_accuracy: 0.3852\n",
            "Epoch 15/70\n",
            "38/38 [==============================] - 1s 30ms/step - loss: 1.3290 - accuracy: 0.3789 - val_loss: 1.1158 - val_accuracy: 0.4889\n",
            "Epoch 16/70\n",
            "38/38 [==============================] - 1s 29ms/step - loss: 1.0497 - accuracy: 0.4900 - val_loss: 1.0280 - val_accuracy: 0.5556\n",
            "Epoch 17/70\n",
            "38/38 [==============================] - 1s 29ms/step - loss: 0.9242 - accuracy: 0.5398 - val_loss: 0.9997 - val_accuracy: 0.5407\n",
            "Epoch 18/70\n",
            "38/38 [==============================] - 1s 28ms/step - loss: 0.9004 - accuracy: 0.5124 - val_loss: 1.1681 - val_accuracy: 0.4074\n",
            "Epoch 19/70\n",
            "38/38 [==============================] - 1s 28ms/step - loss: 0.8738 - accuracy: 0.5340 - val_loss: 1.4617 - val_accuracy: 0.4593\n",
            "Epoch 20/70\n",
            "38/38 [==============================] - 1s 28ms/step - loss: 0.9261 - accuracy: 0.5158 - val_loss: 1.0199 - val_accuracy: 0.5111\n",
            "Epoch 21/70\n",
            "38/38 [==============================] - 1s 28ms/step - loss: 1.1703 - accuracy: 0.4386 - val_loss: 1.2371 - val_accuracy: 0.4000\n",
            "Epoch 22/70\n",
            "38/38 [==============================] - 1s 29ms/step - loss: 1.0217 - accuracy: 0.4453 - val_loss: 1.2955 - val_accuracy: 0.4148\n",
            "Epoch 23/70\n",
            "38/38 [==============================] - 1s 29ms/step - loss: 0.9768 - accuracy: 0.4585 - val_loss: 1.2624 - val_accuracy: 0.4148\n",
            "Epoch 24/70\n",
            "38/38 [==============================] - 1s 29ms/step - loss: 0.9589 - accuracy: 0.4818 - val_loss: 1.2627 - val_accuracy: 0.4074\n",
            "Epoch 25/70\n",
            "38/38 [==============================] - 1s 29ms/step - loss: 0.9373 - accuracy: 0.4643 - val_loss: 1.2224 - val_accuracy: 0.4222\n",
            "Epoch 26/70\n",
            "38/38 [==============================] - 1s 29ms/step - loss: 1.0767 - accuracy: 0.4909 - val_loss: 1.1874 - val_accuracy: 0.3630\n",
            "Epoch 27/70\n",
            "38/38 [==============================] - 1s 28ms/step - loss: 1.1347 - accuracy: 0.4726 - val_loss: 1.1689 - val_accuracy: 0.4444\n",
            "Epoch 28/70\n",
            "38/38 [==============================] - 1s 28ms/step - loss: 1.1153 - accuracy: 0.4428 - val_loss: 1.2058 - val_accuracy: 0.4222\n",
            "Epoch 29/70\n",
            "38/38 [==============================] - 1s 28ms/step - loss: 1.0370 - accuracy: 0.4743 - val_loss: 1.2285 - val_accuracy: 0.4444\n",
            "Epoch 30/70\n",
            "38/38 [==============================] - 1s 28ms/step - loss: 0.9703 - accuracy: 0.5100 - val_loss: 1.2031 - val_accuracy: 0.4519\n",
            "Epoch 31/70\n",
            "38/38 [==============================] - 1s 29ms/step - loss: 0.9389 - accuracy: 0.5473 - val_loss: 1.1877 - val_accuracy: 0.4741\n",
            "Epoch 32/70\n",
            "38/38 [==============================] - 1s 29ms/step - loss: 0.9192 - accuracy: 0.5522 - val_loss: 1.2068 - val_accuracy: 0.3926\n",
            "Epoch 33/70\n",
            "38/38 [==============================] - 1s 29ms/step - loss: 0.9116 - accuracy: 0.5622 - val_loss: 1.1838 - val_accuracy: 0.4222\n",
            "Epoch 34/70\n",
            "38/38 [==============================] - 1s 29ms/step - loss: 0.9134 - accuracy: 0.5862 - val_loss: 1.2302 - val_accuracy: 0.4741\n",
            "Epoch 35/70\n",
            "38/38 [==============================] - 1s 29ms/step - loss: 0.9002 - accuracy: 0.5779 - val_loss: 1.1516 - val_accuracy: 0.4889\n",
            "Epoch 36/70\n",
            "38/38 [==============================] - 1s 29ms/step - loss: 0.9112 - accuracy: 0.5672 - val_loss: 1.1231 - val_accuracy: 0.4889\n",
            "Epoch 37/70\n",
            "38/38 [==============================] - 1s 29ms/step - loss: 0.9083 - accuracy: 0.5871 - val_loss: 1.0593 - val_accuracy: 0.4889\n",
            "Epoch 38/70\n",
            "38/38 [==============================] - 1s 29ms/step - loss: 0.8810 - accuracy: 0.5978 - val_loss: 1.0905 - val_accuracy: 0.4889\n",
            "Epoch 39/70\n",
            "38/38 [==============================] - 1s 29ms/step - loss: 0.8756 - accuracy: 0.5937 - val_loss: 1.1626 - val_accuracy: 0.3852\n",
            "Epoch 40/70\n",
            "38/38 [==============================] - 1s 29ms/step - loss: 0.9470 - accuracy: 0.5788 - val_loss: 1.0892 - val_accuracy: 0.5259\n",
            "Epoch 41/70\n",
            "38/38 [==============================] - 1s 29ms/step - loss: 0.9159 - accuracy: 0.6061 - val_loss: 1.0725 - val_accuracy: 0.5185\n",
            "Epoch 42/70\n",
            "38/38 [==============================] - 1s 29ms/step - loss: 0.8878 - accuracy: 0.6036 - val_loss: 1.0617 - val_accuracy: 0.5037\n",
            "Epoch 43/70\n",
            "38/38 [==============================] - 1s 29ms/step - loss: 0.8467 - accuracy: 0.6318 - val_loss: 1.0294 - val_accuracy: 0.5407\n",
            "Epoch 44/70\n",
            "38/38 [==============================] - 1s 29ms/step - loss: 0.9162 - accuracy: 0.5945 - val_loss: 1.1062 - val_accuracy: 0.4667\n",
            "Epoch 45/70\n",
            "38/38 [==============================] - 1s 29ms/step - loss: 1.3326 - accuracy: 0.4013 - val_loss: 1.3216 - val_accuracy: 0.3926\n",
            "Epoch 46/70\n",
            "38/38 [==============================] - 1s 29ms/step - loss: 1.1930 - accuracy: 0.4345 - val_loss: 1.3016 - val_accuracy: 0.4222\n",
            "Epoch 47/70\n",
            "38/38 [==============================] - 1s 29ms/step - loss: 1.4051 - accuracy: 0.3599 - val_loss: 1.4849 - val_accuracy: 0.3926\n",
            "Epoch 48/70\n",
            "38/38 [==============================] - 1s 29ms/step - loss: 1.3397 - accuracy: 0.3897 - val_loss: 1.4106 - val_accuracy: 0.3852\n",
            "Epoch 49/70\n",
            "38/38 [==============================] - 1s 29ms/step - loss: 1.2349 - accuracy: 0.4378 - val_loss: 1.3568 - val_accuracy: 0.3852\n",
            "Epoch 50/70\n",
            "38/38 [==============================] - 1s 29ms/step - loss: 1.0462 - accuracy: 0.5290 - val_loss: 1.0220 - val_accuracy: 0.5259\n",
            "Epoch 51/70\n",
            "38/38 [==============================] - 1s 38ms/step - loss: 0.7855 - accuracy: 0.6053 - val_loss: 1.1643 - val_accuracy: 0.4741\n",
            "Epoch 52/70\n",
            "38/38 [==============================] - 1s 37ms/step - loss: 0.7294 - accuracy: 0.6186 - val_loss: 1.0382 - val_accuracy: 0.5259\n",
            "Epoch 53/70\n",
            "38/38 [==============================] - 1s 29ms/step - loss: 0.7114 - accuracy: 0.6385 - val_loss: 1.0415 - val_accuracy: 0.4519\n",
            "Epoch 54/70\n",
            "38/38 [==============================] - 1s 29ms/step - loss: 0.6832 - accuracy: 0.6393 - val_loss: 1.1717 - val_accuracy: 0.5259\n",
            "Epoch 55/70\n",
            "38/38 [==============================] - 1s 29ms/step - loss: 0.6483 - accuracy: 0.7007 - val_loss: 0.8537 - val_accuracy: 0.7333\n",
            "Epoch 56/70\n",
            "38/38 [==============================] - 1s 29ms/step - loss: 0.5288 - accuracy: 0.8176 - val_loss: 0.8935 - val_accuracy: 0.7556\n",
            "Epoch 57/70\n",
            "38/38 [==============================] - 1s 29ms/step - loss: 0.5241 - accuracy: 0.8275 - val_loss: 0.7830 - val_accuracy: 0.7556\n",
            "Epoch 58/70\n",
            "38/38 [==============================] - 1s 29ms/step - loss: 0.3538 - accuracy: 0.8972 - val_loss: 0.7962 - val_accuracy: 0.7556\n",
            "Epoch 59/70\n",
            "38/38 [==============================] - 1s 29ms/step - loss: 0.3173 - accuracy: 0.9063 - val_loss: 0.9523 - val_accuracy: 0.7259\n",
            "Epoch 60/70\n",
            "38/38 [==============================] - 1s 29ms/step - loss: 0.3096 - accuracy: 0.9138 - val_loss: 1.0014 - val_accuracy: 0.6370\n",
            "Epoch 61/70\n",
            "38/38 [==============================] - 1s 29ms/step - loss: 0.3400 - accuracy: 0.8640 - val_loss: 0.7478 - val_accuracy: 0.7704\n",
            "Epoch 62/70\n",
            "38/38 [==============================] - 1s 29ms/step - loss: 0.2328 - accuracy: 0.9303 - val_loss: 0.7471 - val_accuracy: 0.7778\n",
            "Epoch 63/70\n",
            "38/38 [==============================] - 1s 29ms/step - loss: 0.2105 - accuracy: 0.9444 - val_loss: 0.7181 - val_accuracy: 0.8074\n",
            "Epoch 64/70\n",
            "38/38 [==============================] - 1s 30ms/step - loss: 0.2036 - accuracy: 0.9453 - val_loss: 0.6350 - val_accuracy: 0.8593\n",
            "Epoch 65/70\n",
            "38/38 [==============================] - 1s 30ms/step - loss: 0.1859 - accuracy: 0.9378 - val_loss: 0.5613 - val_accuracy: 0.8519\n",
            "Epoch 66/70\n",
            "38/38 [==============================] - 1s 30ms/step - loss: 0.1083 - accuracy: 0.9726 - val_loss: 0.4933 - val_accuracy: 0.8963\n",
            "Epoch 67/70\n",
            "38/38 [==============================] - 1s 30ms/step - loss: 0.0582 - accuracy: 0.9884 - val_loss: 0.4388 - val_accuracy: 0.9185\n",
            "Epoch 68/70\n",
            "38/38 [==============================] - 1s 30ms/step - loss: 0.0486 - accuracy: 0.9884 - val_loss: 0.4866 - val_accuracy: 0.9111\n",
            "Epoch 69/70\n",
            "38/38 [==============================] - 1s 30ms/step - loss: 0.1284 - accuracy: 0.9677 - val_loss: 0.9218 - val_accuracy: 0.8074\n",
            "Epoch 70/70\n",
            "38/38 [==============================] - 1s 30ms/step - loss: 0.0706 - accuracy: 0.9851 - val_loss: 0.5073 - val_accuracy: 0.9037\n"
          ]
        }
      ]
    },
    {
      "cell_type": "code",
      "source": [
        "model.save('news_model.h5')"
      ],
      "metadata": {
        "id": "dkyFBMOGU0x6"
      },
      "execution_count": 58,
      "outputs": []
    },
    {
      "cell_type": "markdown",
      "source": [
        "## Testing performance of model"
      ],
      "metadata": {
        "id": "kQi0WR_mZUm-"
      }
    },
    {
      "cell_type": "code",
      "source": [
        "import matplotlib.pyplot as plt\n",
        "\n",
        "accuracy = history.history['accuracy']\n",
        "val_accuracy = history.history['val_accuracy']\n",
        "loss = history.history['loss']\n",
        "val_loss = history.history['val_loss']\n",
        "\n",
        "epochs = range(1, len(accuracy) + 1)\n",
        "\n",
        "plt.figure(figsize=(20,5))\n",
        "plt.subplot(121)\n",
        "sns.lineplot(epochs, accuracy, label='Training accuracy')\n",
        "sns.lineplot(epochs, val_accuracy, label='Validation accuracy')\n",
        "plt.title('Training and validation accuracyuracy')\n",
        "plt.legend()\n",
        "\n",
        "\n",
        "plt.subplot(122)\n",
        "sns.lineplot(epochs, loss, label='Training loss')\n",
        "sns.lineplot(epochs, val_loss, label='Validation loss')\n",
        "plt.title('Training and validation loss')\n",
        "plt.legend()\n",
        "\n",
        "plt.show()"
      ],
      "metadata": {
        "colab": {
          "base_uri": "https://localhost:8080/",
          "height": 261
        },
        "id": "pRV8cx1YVIi5",
        "outputId": "3afa3c29-8097-4f43-80ea-42490eed8d5b"
      },
      "execution_count": 59,
      "outputs": [
        {
          "output_type": "display_data",
          "data": {
            "text/plain": [
              "<Figure size 1440x360 with 2 Axes>"
            ],
            "image/png": "[encoded data removed]"
          },
          "metadata": {
            "needs_background": "light"
          }
        }
      ]
    },
    {
      "cell_type": "code",
      "source": [
        "y_true = lenc.transform(y_test)\n",
        "y_pred = model.predict(data_xtest_pad)\n",
        "y_pred = np.argmax(y_pred,axis=1)"
      ],
      "metadata": {
        "id": "J-egrScPYIJ5"
      },
      "execution_count": 60,
      "outputs": []
    },
    {
      "cell_type": "code",
      "source": [
        "from sklearn.metrics import classification_report, confusion_matrix\n",
        "target_names = lenc.classes_\n",
        "print(classification_report(y_true, y_pred, target_names=target_names))\n",
        "sns.heatmap(confusion_matrix(y_true, y_pred), annot=True, linewidths=.5)\n",
        "plt.show()"
      ],
      "metadata": {
        "id": "MJN_hY4vLmMb",
        "colab": {
          "base_uri": "https://localhost:8080/",
          "height": 473
        },
        "outputId": "8fb70e3e-5bf7-47cc-b37a-08698a3dbabb"
      },
      "execution_count": 63,
      "outputs": [
        {
          "output_type": "stream",
          "name": "stdout",
          "text": [
            "               precision    recall  f1-score   support\n",
            "\n",
            "     business       0.97      0.74      0.84        42\n",
            "entertainment       0.65      1.00      0.79        24\n",
            "     politics       0.90      0.93      0.91        28\n",
            "        sport       0.88      0.88      0.88        26\n",
            "         tech       1.00      0.86      0.93        29\n",
            "\n",
            "     accuracy                           0.87       149\n",
            "    macro avg       0.88      0.88      0.87       149\n",
            " weighted avg       0.90      0.87      0.87       149\n",
            "\n"
          ]
        },
        {
          "output_type": "display_data",
          "data": {
            "text/plain": [
              "<Figure size 432x288 with 2 Axes>"
            ],
            "image/png": "[encoded data removed]"
          },
          "metadata": {
            "needs_background": "light"
          }
        }
      ]
    },
    {
      "cell_type": "code",
      "source": [
        "from prettytable import PrettyTable\n",
        "  \n",
        "# Specify the Column Names while initializing the Table\n",
        "Score_Table = PrettyTable([\"Algo Name\", \"Accuracy\"])\n",
        "  \n",
        "# Add rows\n",
        "Score_Table.add_row([\"Decision Tree\", \"85.0 %\"])\n",
        "Score_Table.add_row([\"Logistic Regression\", \"99.00 %\",])\n",
        "Score_Table.add_row([\"LSTM Model\", \"87.00 %\"])\\\n",
        "\n",
        "print(Score_Table)"
      ],
      "metadata": {
        "colab": {
          "base_uri": "https://localhost:8080/"
        },
        "id": "hVFxzFei63TA",
        "outputId": "461edbfc-f97b-46b3-b3fe-49d8bedcdbab"
      },
      "execution_count": 65,
      "outputs": [
        {
          "output_type": "stream",
          "name": "stdout",
          "text": [
            "+---------------------+----------+\n",
            "|      Algo Name      | Accuracy |\n",
            "+---------------------+----------+\n",
            "|    Decision Tree    |  85.0 %  |\n",
            "| Logistic Regression | 99.00 %  |\n",
            "|      LSTM Model     | 87.00 %  |\n",
            "+---------------------+----------+\n"
          ]
        }
      ]
    },
    {
      "cell_type": "markdown",
      "source": [
        "* We choose Logistic Regresion model to use while deployment"
      ],
      "metadata": {
        "id": "mA3BjCYw8_ga"
      }
    },
    {
      "cell_type": "code",
      "source": [
        ""
      ],
      "metadata": {
        "id": "WsBRhwlR83aF"
      },
      "execution_count": null,
      "outputs": []
    }
  ]
}