{
  "nbformat": 4,
  "nbformat_minor": 0,
  "metadata": {
    "colab": {
      "name": "iNeuron internship NLP V2.0",
      "provenance": [],
      "collapsed_sections": []
    },
    "kernelspec": {
      "name": "python3",
      "display_name": "Python 3"
    },
    "language_info": {
      "name": "python"
    },
    "accelerator": "GPU",
    "gpuClass": "standard"
  },
  "cells": [
    {
      "cell_type": "markdown",
      "source": [
        "# Getting Data"
      ],
      "metadata": {
        "id": "QldACQs_Y9O6"
      }
    },
    {
      "cell_type": "code",
      "execution_count": 1,
      "metadata": {
        "colab": {
          "base_uri": "https://localhost:8080/"
        },
        "id": "BbQZ4fW4vlFC",
        "outputId": "d828060e-ca84-470d-de63-1b40c322a1a3"
      },
      "outputs": [
        {
          "output_type": "stream",
          "name": "stdout",
          "text": [
            "Writing kaggle.json\n"
          ]
        }
      ],
      "source": [
        "%%writefile kaggle.json\n",
        "{\"username\":\"rushikeshdarge\",\"key\":\"********************************\"}"
      ]
    },
    {
      "cell_type": "code",
      "source": [
        "! pip install kaggle\n",
        "! mkdir ~/.kaggle\n",
        "! cp kaggle.json ~/.kaggle/\n",
        "! chmod 600 ~/.kaggle/kaggle.json\n",
        "! kaggle competitions download -c learn-ai-bbc\n",
        "! unzip /content/learn-ai-bbc.zip"
      ],
      "metadata": {
        "colab": {
          "base_uri": "https://localhost:8080/"
        },
        "id": "_-yDaT3fwlae",
        "outputId": "29117942-32f5-4463-9c68-49c3015c55cb"
      },
      "execution_count": 2,
      "outputs": [
        {
          "output_type": "stream",
          "name": "stdout",
          "text": [
            "Looking in indexes: https://pypi.org/simple, https://us-python.pkg.dev/colab-wheels/public/simple/\n",
            "Requirement already satisfied: kaggle in /usr/local/lib/python3.7/dist-packages (1.5.12)\n",
            "Requirement already satisfied: certifi in /usr/local/lib/python3.7/dist-packages (from kaggle) (2022.6.15)\n",
            "Requirement already satisfied: urllib3 in /usr/local/lib/python3.7/dist-packages (from kaggle) (1.24.3)\n",
            "Requirement already satisfied: six>=1.10 in /usr/local/lib/python3.7/dist-packages (from kaggle) (1.15.0)\n",
            "Requirement already satisfied: requests in /usr/local/lib/python3.7/dist-packages (from kaggle) (2.23.0)\n",
            "Requirement already satisfied: python-slugify in /usr/local/lib/python3.7/dist-packages (from kaggle) (6.1.2)\n",
            "Requirement already satisfied: tqdm in /usr/local/lib/python3.7/dist-packages (from kaggle) (4.64.0)\n",
            "Requirement already satisfied: python-dateutil in /usr/local/lib/python3.7/dist-packages (from kaggle) (2.8.2)\n",
            "Requirement already satisfied: text-unidecode>=1.3 in /usr/local/lib/python3.7/dist-packages (from python-slugify->kaggle) (1.3)\n",
            "Requirement already satisfied: idna<3,>=2.5 in /usr/local/lib/python3.7/dist-packages (from requests->kaggle) (2.10)\n",
            "Requirement already satisfied: chardet<4,>=3.0.2 in /usr/local/lib/python3.7/dist-packages (from requests->kaggle) (3.0.4)\n",
            "Downloading learn-ai-bbc.zip to /content\n",
            "  0% 0.00/1.85M [00:00<?, ?B/s]\n",
            "100% 1.85M/1.85M [00:00<00:00, 143MB/s]\n",
            "Archive:  /content/learn-ai-bbc.zip\n",
            "  inflating: BBC News Sample Solution.csv  \n",
            "  inflating: BBC News Test.csv       \n",
            "  inflating: BBC News Train.csv      \n"
          ]
        }
      ]
    },
    {
      "cell_type": "code",
      "source": [
        "import pandas as pd\n",
        "import numpy as np\n",
        "import re\n",
        "import seaborn as sns\n",
        "import matplotlib.pyplot as plt\n",
        "import warnings\n",
        "warnings.filterwarnings(\"ignore\")"
      ],
      "metadata": {
        "id": "LFEPg1AMwwpN"
      },
      "execution_count": 3,
      "outputs": []
    },
    {
      "cell_type": "markdown",
      "source": [
        "# Read Data"
      ],
      "metadata": {
        "id": "8zcqkT2iZFnj"
      }
    },
    {
      "cell_type": "code",
      "source": [
        "df = pd.read_csv('/content/BBC News Train.csv')\n",
        "df.head()"
      ],
      "metadata": {
        "colab": {
          "base_uri": "https://localhost:8080/",
          "height": 206
        },
        "id": "ijb7GniMxCDq",
        "outputId": "d710b744-5095-403b-eeb5-1e147f744d3b"
      },
      "execution_count": 4,
      "outputs": [
        {
          "output_type": "execute_result",
          "data": {
            "text/plain": [
              "   ArticleId                                               Text  Category\n",
              "0       1833  worldcom ex-boss launches defence lawyers defe...  business\n",
              "1        154  german business confidence slides german busin...  business\n",
              "2       1101  bbc poll indicates economic gloom citizens in ...  business\n",
              "3       1976  lifestyle  governs mobile choice  faster  bett...      tech\n",
              "4        917  enron bosses in $168m payout eighteen former e...  business"
            ],
            "text/html": [
              "\n",
              "  <div id=\"df-949d109e-169c-433a-8cd6-8a1a6298fa74\">\n",
              "    <div class=\"colab-df-container\">\n",
              "      <div>\n",
              "<style scoped>\n",
              "    .dataframe tbody tr th:only-of-type {\n",
              "        vertical-align: middle;\n",
              "    }\n",
              "\n",
              "    .dataframe tbody tr th {\n",
              "        vertical-align: top;\n",
              "    }\n",
              "\n",
              "    .dataframe thead th {\n",
              "        text-align: right;\n",
              "    }\n",
              "</style>\n",
              "<table border=\"1\" class=\"dataframe\">\n",
              "  <thead>\n",
              "    <tr style=\"text-align: right;\">\n",
              "      <th></th>\n",
              "      <th>ArticleId</th>\n",
              "      <th>Text</th>\n",
              "      <th>Category</th>\n",
              "    </tr>\n",
              "  </thead>\n",
              "  <tbody>\n",
              "    <tr>\n",
              "      <th>0</th>\n",
              "      <td>1833</td>\n",
              "      <td>worldcom ex-boss launches defence lawyers defe...</td>\n",
              "      <td>business</td>\n",
              "    </tr>\n",
              "    <tr>\n",
              "      <th>1</th>\n",
              "      <td>154</td>\n",
              "      <td>german business confidence slides german busin...</td>\n",
              "      <td>business</td>\n",
              "    </tr>\n",
              "    <tr>\n",
              "      <th>2</th>\n",
              "      <td>1101</td>\n",
              "      <td>bbc poll indicates economic gloom citizens in ...</td>\n",
              "      <td>business</td>\n",
              "    </tr>\n",
              "    <tr>\n",
              "      <th>3</th>\n",
              "      <td>1976</td>\n",
              "      <td>lifestyle  governs mobile choice  faster  bett...</td>\n",
              "      <td>tech</td>\n",
              "    </tr>\n",
              "    <tr>\n",
              "      <th>4</th>\n",
              "      <td>917</td>\n",
              "      <td>enron bosses in $168m payout eighteen former e...</td>\n",
              "      <td>business</td>\n",
              "    </tr>\n",
              "  </tbody>\n",
              "</table>\n",
              "</div>\n",
              "      <button class=\"colab-df-convert\" onclick=\"convertToInteractive('df-949d109e-169c-433a-8cd6-8a1a6298fa74')\"\n",
              "              title=\"Convert this dataframe to an interactive table.\"\n",
              "              style=\"display:none;\">\n",
              "        \n",
              "  <svg xmlns=\"http://www.w3.org/2000/svg\" height=\"24px\"viewBox=\"0 0 24 24\"\n",
              "       width=\"24px\">\n",
              "    <path d=\"M0 0h24v24H0V0z\" fill=\"none\"/>\n",
              "    <path d=\"M18.56 5.44l.94 2.06.94-2.06 2.06-.94-2.06-.94-.94-2.06-.94 2.06-2.06.94zm-11 1L8.5 8.5l.94-2.06 2.06-.94-2.06-.94L8.5 2.5l-.94 2.06-2.06.94zm10 10l.94 2.06.94-2.06 2.06-.94-2.06-.94-.94-2.06-.94 2.06-2.06.94z\"/><path d=\"M17.41 7.96l-1.37-1.37c-.4-.4-.92-.59-1.43-.59-.52 0-1.04.2-1.43.59L10.3 9.45l-7.72 7.72c-.78.78-.78 2.05 0 2.83L4 21.41c.39.39.9.59 1.41.59.51 0 1.02-.2 1.41-.59l7.78-7.78 2.81-2.81c.8-.78.8-2.07 0-2.86zM5.41 20L4 18.59l7.72-7.72 1.47 1.35L5.41 20z\"/>\n",
              "  </svg>\n",
              "      </button>\n",
              "      \n",
              "  <style>\n",
              "    .colab-df-container {\n",
              "      display:flex;\n",
              "      flex-wrap:wrap;\n",
              "      gap: 12px;\n",
              "    }\n",
              "\n",
              "    .colab-df-convert {\n",
              "      background-color: #E8F0FE;\n",
              "      border: none;\n",
              "      border-radius: 50%;\n",
              "      cursor: pointer;\n",
              "      display: none;\n",
              "      fill: #1967D2;\n",
              "      height: 32px;\n",
              "      padding: 0 0 0 0;\n",
              "      width: 32px;\n",
              "    }\n",
              "\n",
              "    .colab-df-convert:hover {\n",
              "      background-color: #E2EBFA;\n",
              "      box-shadow: 0px 1px 2px rgba(60, 64, 67, 0.3), 0px 1px 3px 1px rgba(60, 64, 67, 0.15);\n",
              "      fill: #174EA6;\n",
              "    }\n",
              "\n",
              "    [theme=dark] .colab-df-convert {\n",
              "      background-color: #3B4455;\n",
              "      fill: #D2E3FC;\n",
              "    }\n",
              "\n",
              "    [theme=dark] .colab-df-convert:hover {\n",
              "      background-color: #434B5C;\n",
              "      box-shadow: 0px 1px 3px 1px rgba(0, 0, 0, 0.15);\n",
              "      filter: drop-shadow(0px 1px 2px rgba(0, 0, 0, 0.3));\n",
              "      fill: #FFFFFF;\n",
              "    }\n",
              "  </style>\n",
              "\n",
              "      <script>\n",
              "        const buttonEl =\n",
              "          document.querySelector('#df-949d109e-169c-433a-8cd6-8a1a6298fa74 button.colab-df-convert');\n",
              "        buttonEl.style.display =\n",
              "          google.colab.kernel.accessAllowed ? 'block' : 'none';\n",
              "\n",
              "        async function convertToInteractive(key) {\n",
              "          const element = document.querySelector('#df-949d109e-169c-433a-8cd6-8a1a6298fa74');\n",
              "          const dataTable =\n",
              "            await google.colab.kernel.invokeFunction('convertToInteractive',\n",
              "                                                     [key], {});\n",
              "          if (!dataTable) return;\n",
              "\n",
              "          const docLinkHtml = 'Like what you see? Visit the ' +\n",
              "            '<a target=\"_blank\" href=https://colab.research.google.com/notebooks/data_table.ipynb>data table notebook</a>'\n",
              "            + ' to learn more about interactive tables.';\n",
              "          element.innerHTML = '';\n",
              "          dataTable['output_type'] = 'display_data';\n",
              "          await google.colab.output.renderOutput(dataTable, element);\n",
              "          const docLink = document.createElement('div');\n",
              "          docLink.innerHTML = docLinkHtml;\n",
              "          element.appendChild(docLink);\n",
              "        }\n",
              "      </script>\n",
              "    </div>\n",
              "  </div>\n",
              "  "
            ]
          },
          "metadata": {},
          "execution_count": 4
        }
      ]
    },
    {
      "cell_type": "code",
      "source": [
        "df.shape"
      ],
      "metadata": {
        "colab": {
          "base_uri": "https://localhost:8080/"
        },
        "id": "i8P8d7ygxNAm",
        "outputId": "f207c7c7-7f5f-47d8-db02-82d33a912211"
      },
      "execution_count": 5,
      "outputs": [
        {
          "output_type": "execute_result",
          "data": {
            "text/plain": [
              "(1490, 3)"
            ]
          },
          "metadata": {},
          "execution_count": 5
        }
      ]
    },
    {
      "cell_type": "code",
      "source": [
        "df.Category.value_counts()"
      ],
      "metadata": {
        "colab": {
          "base_uri": "https://localhost:8080/"
        },
        "id": "gT_pTZklxPIv",
        "outputId": "b0e70238-b9af-4c78-8216-4247a0ac1a99"
      },
      "execution_count": 6,
      "outputs": [
        {
          "output_type": "execute_result",
          "data": {
            "text/plain": [
              "sport            346\n",
              "business         336\n",
              "politics         274\n",
              "entertainment    273\n",
              "tech             261\n",
              "Name: Category, dtype: int64"
            ]
          },
          "metadata": {},
          "execution_count": 6
        }
      ]
    },
    {
      "cell_type": "code",
      "source": [
        "df.isnull().sum()"
      ],
      "metadata": {
        "colab": {
          "base_uri": "https://localhost:8080/"
        },
        "id": "2Aj5KsXGxR5c",
        "outputId": "3b262943-2d65-476b-acdd-358661767c53"
      },
      "execution_count": 7,
      "outputs": [
        {
          "output_type": "execute_result",
          "data": {
            "text/plain": [
              "ArticleId    0\n",
              "Text         0\n",
              "Category     0\n",
              "dtype: int64"
            ]
          },
          "metadata": {},
          "execution_count": 7
        }
      ]
    },
    {
      "cell_type": "code",
      "source": [
        "df.Text.sample(10)"
      ],
      "metadata": {
        "colab": {
          "base_uri": "https://localhost:8080/"
        },
        "id": "ZuNZ6sYzxZeH",
        "outputId": "a16c49f9-ef7e-4d85-dcc3-523e1de7fc10"
      },
      "execution_count": 8,
      "outputs": [
        {
          "output_type": "execute_result",
          "data": {
            "text/plain": [
              "730     russia wto talks  make progress  talks on russ...\n",
              "438     pupils to get anti-piracy lessons lessons on m...\n",
              "974     butler strikes gold in spain britain s kathy b...\n",
              "1481    liverpool pledge to keep gerrard liverpool chi...\n",
              "870     farrell due to make us tv debut actor colin fa...\n",
              "509     virus poses as christmas e-mail security firms...\n",
              "36      corry backs skipper robinson england forward m...\n",
              "1314    rem concerts blighted by illness us rock band ...\n",
              "1072    games maker fights for survival one of britain...\n",
              "68      us state acts to stop  spammers  us state texa...\n",
              "Name: Text, dtype: object"
            ]
          },
          "metadata": {},
          "execution_count": 8
        }
      ]
    },
    {
      "cell_type": "markdown",
      "source": [
        "# Pre-Processing"
      ],
      "metadata": {
        "id": "qiYLXIejZH5A"
      }
    },
    {
      "cell_type": "code",
      "source": [
        "# ref : from reference notebook\n",
        "def decontractions(phrase):\n",
        "    \"\"\"decontracted takes text and convert contractions into natural form.\n",
        "     ref: https://stackoverflow.com/questions/19790188/expanding-english-language-contractions-in-python/47091490#47091490\"\"\"\n",
        "    # specific\n",
        "    phrase = re.sub(r\"won\\'t\", \"will not\", phrase)\n",
        "    phrase = re.sub(r\"can\\'t\", \"can not\", phrase)\n",
        "    phrase = re.sub(r\"won\\’t\", \"will not\", phrase)\n",
        "    phrase = re.sub(r\"can\\’t\", \"can not\", phrase)\n",
        "\n",
        "    # general\n",
        "    phrase = re.sub(r\"n\\'t\", \" not\", phrase)\n",
        "    phrase = re.sub(r\"\\'re\", \" are\", phrase)\n",
        "    phrase = re.sub(r\"\\'s\", \" is\", phrase)\n",
        "    phrase = re.sub(r\"\\'d\", \" would\", phrase)\n",
        "    phrase = re.sub(r\"\\'ll\", \" will\", phrase)\n",
        "    phrase = re.sub(r\"\\'t\", \" not\", phrase)\n",
        "    phrase = re.sub(r\"\\'ve\", \" have\", phrase)\n",
        "    phrase = re.sub(r\"\\'m\", \" am\", phrase)\n",
        "\n",
        "    phrase = re.sub(r\"n\\’t\", \" not\", phrase)\n",
        "    phrase = re.sub(r\"\\’re\", \" are\", phrase)\n",
        "    phrase = re.sub(r\"\\’s\", \" is\", phrase)\n",
        "    phrase = re.sub(r\"\\’d\", \" would\", phrase)\n",
        "    phrase = re.sub(r\"\\’ll\", \" will\", phrase)\n",
        "    phrase = re.sub(r\"\\’t\", \" not\", phrase)\n",
        "    phrase = re.sub(r\"\\’ve\", \" have\", phrase)\n",
        "    phrase = re.sub(r\"\\’m\", \" am\", phrase)\n",
        "\n",
        "    return phrase\n",
        "\n",
        "def preprocess(text):\n",
        "    # convert all the text into lower letters\n",
        "    text = text.lower()\n",
        "    text = decontractions(text)\n",
        "    text = re.sub('[^A-Za-z0-9 ]+', '', text)\n",
        "    text = re.sub('-', ' ', text)\n",
        "    return text\n",
        "\n",
        "df['Text'] = df['Text'].apply(preprocess)\n",
        "df.head()"
      ],
      "metadata": {
        "colab": {
          "base_uri": "https://localhost:8080/",
          "height": 206
        },
        "id": "Eb75224Lxf-G",
        "outputId": "8293490a-7c6e-4dfe-be88-11150551c4ee"
      },
      "execution_count": 9,
      "outputs": [
        {
          "output_type": "execute_result",
          "data": {
            "text/plain": [
              "   ArticleId                                               Text  Category\n",
              "0       1833  worldcom exboss launches defence lawyers defen...  business\n",
              "1        154  german business confidence slides german busin...  business\n",
              "2       1101  bbc poll indicates economic gloom citizens in ...  business\n",
              "3       1976  lifestyle  governs mobile choice  faster  bett...      tech\n",
              "4        917  enron bosses in 168m payout eighteen former en...  business"
            ],
            "text/html": [
              "\n",
              "  <div id=\"df-7fd4af10-07ac-415f-becf-b7c6cd5edfb9\">\n",
              "    <div class=\"colab-df-container\">\n",
              "      <div>\n",
              "<style scoped>\n",
              "    .dataframe tbody tr th:only-of-type {\n",
              "        vertical-align: middle;\n",
              "    }\n",
              "\n",
              "    .dataframe tbody tr th {\n",
              "        vertical-align: top;\n",
              "    }\n",
              "\n",
              "    .dataframe thead th {\n",
              "        text-align: right;\n",
              "    }\n",
              "</style>\n",
              "<table border=\"1\" class=\"dataframe\">\n",
              "  <thead>\n",
              "    <tr style=\"text-align: right;\">\n",
              "      <th></th>\n",
              "      <th>ArticleId</th>\n",
              "      <th>Text</th>\n",
              "      <th>Category</th>\n",
              "    </tr>\n",
              "  </thead>\n",
              "  <tbody>\n",
              "    <tr>\n",
              "      <th>0</th>\n",
              "      <td>1833</td>\n",
              "      <td>worldcom exboss launches defence lawyers defen...</td>\n",
              "      <td>business</td>\n",
              "    </tr>\n",
              "    <tr>\n",
              "      <th>1</th>\n",
              "      <td>154</td>\n",
              "      <td>german business confidence slides german busin...</td>\n",
              "      <td>business</td>\n",
              "    </tr>\n",
              "    <tr>\n",
              "      <th>2</th>\n",
              "      <td>1101</td>\n",
              "      <td>bbc poll indicates economic gloom citizens in ...</td>\n",
              "      <td>business</td>\n",
              "    </tr>\n",
              "    <tr>\n",
              "      <th>3</th>\n",
              "      <td>1976</td>\n",
              "      <td>lifestyle  governs mobile choice  faster  bett...</td>\n",
              "      <td>tech</td>\n",
              "    </tr>\n",
              "    <tr>\n",
              "      <th>4</th>\n",
              "      <td>917</td>\n",
              "      <td>enron bosses in 168m payout eighteen former en...</td>\n",
              "      <td>business</td>\n",
              "    </tr>\n",
              "  </tbody>\n",
              "</table>\n",
              "</div>\n",
              "      <button class=\"colab-df-convert\" onclick=\"convertToInteractive('df-7fd4af10-07ac-415f-becf-b7c6cd5edfb9')\"\n",
              "              title=\"Convert this dataframe to an interactive table.\"\n",
              "              style=\"display:none;\">\n",
              "        \n",
              "  <svg xmlns=\"http://www.w3.org/2000/svg\" height=\"24px\"viewBox=\"0 0 24 24\"\n",
              "       width=\"24px\">\n",
              "    <path d=\"M0 0h24v24H0V0z\" fill=\"none\"/>\n",
              "    <path d=\"M18.56 5.44l.94 2.06.94-2.06 2.06-.94-2.06-.94-.94-2.06-.94 2.06-2.06.94zm-11 1L8.5 8.5l.94-2.06 2.06-.94-2.06-.94L8.5 2.5l-.94 2.06-2.06.94zm10 10l.94 2.06.94-2.06 2.06-.94-2.06-.94-.94-2.06-.94 2.06-2.06.94z\"/><path d=\"M17.41 7.96l-1.37-1.37c-.4-.4-.92-.59-1.43-.59-.52 0-1.04.2-1.43.59L10.3 9.45l-7.72 7.72c-.78.78-.78 2.05 0 2.83L4 21.41c.39.39.9.59 1.41.59.51 0 1.02-.2 1.41-.59l7.78-7.78 2.81-2.81c.8-.78.8-2.07 0-2.86zM5.41 20L4 18.59l7.72-7.72 1.47 1.35L5.41 20z\"/>\n",
              "  </svg>\n",
              "      </button>\n",
              "      \n",
              "  <style>\n",
              "    .colab-df-container {\n",
              "      display:flex;\n",
              "      flex-wrap:wrap;\n",
              "      gap: 12px;\n",
              "    }\n",
              "\n",
              "    .colab-df-convert {\n",
              "      background-color: #E8F0FE;\n",
              "      border: none;\n",
              "      border-radius: 50%;\n",
              "      cursor: pointer;\n",
              "      display: none;\n",
              "      fill: #1967D2;\n",
              "      height: 32px;\n",
              "      padding: 0 0 0 0;\n",
              "      width: 32px;\n",
              "    }\n",
              "\n",
              "    .colab-df-convert:hover {\n",
              "      background-color: #E2EBFA;\n",
              "      box-shadow: 0px 1px 2px rgba(60, 64, 67, 0.3), 0px 1px 3px 1px rgba(60, 64, 67, 0.15);\n",
              "      fill: #174EA6;\n",
              "    }\n",
              "\n",
              "    [theme=dark] .colab-df-convert {\n",
              "      background-color: #3B4455;\n",
              "      fill: #D2E3FC;\n",
              "    }\n",
              "\n",
              "    [theme=dark] .colab-df-convert:hover {\n",
              "      background-color: #434B5C;\n",
              "      box-shadow: 0px 1px 3px 1px rgba(0, 0, 0, 0.15);\n",
              "      filter: drop-shadow(0px 1px 2px rgba(0, 0, 0, 0.3));\n",
              "      fill: #FFFFFF;\n",
              "    }\n",
              "  </style>\n",
              "\n",
              "      <script>\n",
              "        const buttonEl =\n",
              "          document.querySelector('#df-7fd4af10-07ac-415f-becf-b7c6cd5edfb9 button.colab-df-convert');\n",
              "        buttonEl.style.display =\n",
              "          google.colab.kernel.accessAllowed ? 'block' : 'none';\n",
              "\n",
              "        async function convertToInteractive(key) {\n",
              "          const element = document.querySelector('#df-7fd4af10-07ac-415f-becf-b7c6cd5edfb9');\n",
              "          const dataTable =\n",
              "            await google.colab.kernel.invokeFunction('convertToInteractive',\n",
              "                                                     [key], {});\n",
              "          if (!dataTable) return;\n",
              "\n",
              "          const docLinkHtml = 'Like what you see? Visit the ' +\n",
              "            '<a target=\"_blank\" href=https://colab.research.google.com/notebooks/data_table.ipynb>data table notebook</a>'\n",
              "            + ' to learn more about interactive tables.';\n",
              "          element.innerHTML = '';\n",
              "          dataTable['output_type'] = 'display_data';\n",
              "          await google.colab.output.renderOutput(dataTable, element);\n",
              "          const docLink = document.createElement('div');\n",
              "          docLink.innerHTML = docLinkHtml;\n",
              "          element.appendChild(docLink);\n",
              "        }\n",
              "      </script>\n",
              "    </div>\n",
              "  </div>\n",
              "  "
            ]
          },
          "metadata": {},
          "execution_count": 9
        }
      ]
    },
    {
      "cell_type": "code",
      "source": [
        "df = df[['Text', 'Category']]\n",
        "df.head()"
      ],
      "metadata": {
        "colab": {
          "base_uri": "https://localhost:8080/",
          "height": 206
        },
        "id": "DZycEvt4ydhL",
        "outputId": "2945e90a-56fb-40ea-9357-1f634136fd34"
      },
      "execution_count": 10,
      "outputs": [
        {
          "output_type": "execute_result",
          "data": {
            "text/plain": [
              "                                                Text  Category\n",
              "0  worldcom exboss launches defence lawyers defen...  business\n",
              "1  german business confidence slides german busin...  business\n",
              "2  bbc poll indicates economic gloom citizens in ...  business\n",
              "3  lifestyle  governs mobile choice  faster  bett...      tech\n",
              "4  enron bosses in 168m payout eighteen former en...  business"
            ],
            "text/html": [
              "\n",
              "  <div id=\"df-29d9350a-6e4a-4107-9a65-496140acb5c3\">\n",
              "    <div class=\"colab-df-container\">\n",
              "      <div>\n",
              "<style scoped>\n",
              "    .dataframe tbody tr th:only-of-type {\n",
              "        vertical-align: middle;\n",
              "    }\n",
              "\n",
              "    .dataframe tbody tr th {\n",
              "        vertical-align: top;\n",
              "    }\n",
              "\n",
              "    .dataframe thead th {\n",
              "        text-align: right;\n",
              "    }\n",
              "</style>\n",
              "<table border=\"1\" class=\"dataframe\">\n",
              "  <thead>\n",
              "    <tr style=\"text-align: right;\">\n",
              "      <th></th>\n",
              "      <th>Text</th>\n",
              "      <th>Category</th>\n",
              "    </tr>\n",
              "  </thead>\n",
              "  <tbody>\n",
              "    <tr>\n",
              "      <th>0</th>\n",
              "      <td>worldcom exboss launches defence lawyers defen...</td>\n",
              "      <td>business</td>\n",
              "    </tr>\n",
              "    <tr>\n",
              "      <th>1</th>\n",
              "      <td>german business confidence slides german busin...</td>\n",
              "      <td>business</td>\n",
              "    </tr>\n",
              "    <tr>\n",
              "      <th>2</th>\n",
              "      <td>bbc poll indicates economic gloom citizens in ...</td>\n",
              "      <td>business</td>\n",
              "    </tr>\n",
              "    <tr>\n",
              "      <th>3</th>\n",
              "      <td>lifestyle  governs mobile choice  faster  bett...</td>\n",
              "      <td>tech</td>\n",
              "    </tr>\n",
              "    <tr>\n",
              "      <th>4</th>\n",
              "      <td>enron bosses in 168m payout eighteen former en...</td>\n",
              "      <td>business</td>\n",
              "    </tr>\n",
              "  </tbody>\n",
              "</table>\n",
              "</div>\n",
              "      <button class=\"colab-df-convert\" onclick=\"convertToInteractive('df-29d9350a-6e4a-4107-9a65-496140acb5c3')\"\n",
              "              title=\"Convert this dataframe to an interactive table.\"\n",
              "              style=\"display:none;\">\n",
              "        \n",
              "  <svg xmlns=\"http://www.w3.org/2000/svg\" height=\"24px\"viewBox=\"0 0 24 24\"\n",
              "       width=\"24px\">\n",
              "    <path d=\"M0 0h24v24H0V0z\" fill=\"none\"/>\n",
              "    <path d=\"M18.56 5.44l.94 2.06.94-2.06 2.06-.94-2.06-.94-.94-2.06-.94 2.06-2.06.94zm-11 1L8.5 8.5l.94-2.06 2.06-.94-2.06-.94L8.5 2.5l-.94 2.06-2.06.94zm10 10l.94 2.06.94-2.06 2.06-.94-2.06-.94-.94-2.06-.94 2.06-2.06.94z\"/><path d=\"M17.41 7.96l-1.37-1.37c-.4-.4-.92-.59-1.43-.59-.52 0-1.04.2-1.43.59L10.3 9.45l-7.72 7.72c-.78.78-.78 2.05 0 2.83L4 21.41c.39.39.9.59 1.41.59.51 0 1.02-.2 1.41-.59l7.78-7.78 2.81-2.81c.8-.78.8-2.07 0-2.86zM5.41 20L4 18.59l7.72-7.72 1.47 1.35L5.41 20z\"/>\n",
              "  </svg>\n",
              "      </button>\n",
              "      \n",
              "  <style>\n",
              "    .colab-df-container {\n",
              "      display:flex;\n",
              "      flex-wrap:wrap;\n",
              "      gap: 12px;\n",
              "    }\n",
              "\n",
              "    .colab-df-convert {\n",
              "      background-color: #E8F0FE;\n",
              "      border: none;\n",
              "      border-radius: 50%;\n",
              "      cursor: pointer;\n",
              "      display: none;\n",
              "      fill: #1967D2;\n",
              "      height: 32px;\n",
              "      padding: 0 0 0 0;\n",
              "      width: 32px;\n",
              "    }\n",
              "\n",
              "    .colab-df-convert:hover {\n",
              "      background-color: #E2EBFA;\n",
              "      box-shadow: 0px 1px 2px rgba(60, 64, 67, 0.3), 0px 1px 3px 1px rgba(60, 64, 67, 0.15);\n",
              "      fill: #174EA6;\n",
              "    }\n",
              "\n",
              "    [theme=dark] .colab-df-convert {\n",
              "      background-color: #3B4455;\n",
              "      fill: #D2E3FC;\n",
              "    }\n",
              "\n",
              "    [theme=dark] .colab-df-convert:hover {\n",
              "      background-color: #434B5C;\n",
              "      box-shadow: 0px 1px 3px 1px rgba(0, 0, 0, 0.15);\n",
              "      filter: drop-shadow(0px 1px 2px rgba(0, 0, 0, 0.3));\n",
              "      fill: #FFFFFF;\n",
              "    }\n",
              "  </style>\n",
              "\n",
              "      <script>\n",
              "        const buttonEl =\n",
              "          document.querySelector('#df-29d9350a-6e4a-4107-9a65-496140acb5c3 button.colab-df-convert');\n",
              "        buttonEl.style.display =\n",
              "          google.colab.kernel.accessAllowed ? 'block' : 'none';\n",
              "\n",
              "        async function convertToInteractive(key) {\n",
              "          const element = document.querySelector('#df-29d9350a-6e4a-4107-9a65-496140acb5c3');\n",
              "          const dataTable =\n",
              "            await google.colab.kernel.invokeFunction('convertToInteractive',\n",
              "                                                     [key], {});\n",
              "          if (!dataTable) return;\n",
              "\n",
              "          const docLinkHtml = 'Like what you see? Visit the ' +\n",
              "            '<a target=\"_blank\" href=https://colab.research.google.com/notebooks/data_table.ipynb>data table notebook</a>'\n",
              "            + ' to learn more about interactive tables.';\n",
              "          element.innerHTML = '';\n",
              "          dataTable['output_type'] = 'display_data';\n",
              "          await google.colab.output.renderOutput(dataTable, element);\n",
              "          const docLink = document.createElement('div');\n",
              "          docLink.innerHTML = docLinkHtml;\n",
              "          element.appendChild(docLink);\n",
              "        }\n",
              "      </script>\n",
              "    </div>\n",
              "  </div>\n",
              "  "
            ]
          },
          "metadata": {},
          "execution_count": 10
        }
      ]
    },
    {
      "cell_type": "markdown",
      "source": [
        "# Prepare data for model"
      ],
      "metadata": {
        "id": "TIKOxXMGZLbC"
      }
    },
    {
      "cell_type": "code",
      "source": [
        "X = df.Text\n",
        "y = df.Category"
      ],
      "metadata": {
        "id": "I4Tw0Ydvyn5M"
      },
      "execution_count": 11,
      "outputs": []
    },
    {
      "cell_type": "code",
      "source": [
        "# split dataset\n",
        "from sklearn.model_selection import train_test_split\n",
        "X_train, X_test, y_train, y_test = train_test_split(X, y, test_size=0.10, random_state=42)"
      ],
      "metadata": {
        "id": "BJ4NXMPmyYdJ"
      },
      "execution_count": 12,
      "outputs": []
    },
    {
      "cell_type": "code",
      "source": [
        "X_train.shape, X_test.shape, y_train.shape, y_test.shape"
      ],
      "metadata": {
        "colab": {
          "base_uri": "https://localhost:8080/"
        },
        "id": "3tTA6lZky5S9",
        "outputId": "728bfc59-9179-4459-c44d-808e8f1380d7"
      },
      "execution_count": 13,
      "outputs": [
        {
          "output_type": "execute_result",
          "data": {
            "text/plain": [
              "((1341,), (149,), (1341,), (149,))"
            ]
          },
          "metadata": {},
          "execution_count": 13
        }
      ]
    },
    {
      "cell_type": "code",
      "source": [
        "from tensorflow.keras.preprocessing.text import Tokenizer\n",
        "from tensorflow.keras.preprocessing.sequence import pad_sequences"
      ],
      "metadata": {
        "id": "P6a5uhv1y-fW"
      },
      "execution_count": 14,
      "outputs": []
    },
    {
      "cell_type": "code",
      "source": [
        "token = Tokenizer(num_words=10000, oov_token='unk')\n",
        "token.fit_on_texts(X_train.values)\n",
        "data_xtrain = token.texts_to_sequences(X_train.values)\n",
        "data_xtest = token.texts_to_sequences(X_test.values)"
      ],
      "metadata": {
        "id": "YuTvuLBPzE9Q"
      },
      "execution_count": 15,
      "outputs": []
    },
    {
      "cell_type": "code",
      "source": [
        "# saving tokenizer for deploying model\n",
        "# ref : https://stackoverflow.com/a/45737582\n",
        "import pickle\n",
        "\n",
        "# saving\n",
        "with open('tokenizer.pickle', 'wb') as handle:\n",
        "    pickle.dump(token, handle, protocol=pickle.HIGHEST_PROTOCOL)\n",
        "\n",
        "# # loading\n",
        "# with open('tokenizer.pickle', 'rb') as handle:\n",
        "#     token = pickle.load(handle)"
      ],
      "metadata": {
        "id": "7xSUsa7qcEj8"
      },
      "execution_count": 85,
      "outputs": []
    },
    {
      "cell_type": "code",
      "source": [
        "print('Number of unique words',len(token.word_index.keys()))"
      ],
      "metadata": {
        "colab": {
          "base_uri": "https://localhost:8080/"
        },
        "id": "1mV_mrL3zmkE",
        "outputId": "10003afa-5f20-4179-faff-b43c921179b6"
      },
      "execution_count": 16,
      "outputs": [
        {
          "output_type": "stream",
          "name": "stdout",
          "text": [
            "Number of unique words 26061\n"
          ]
        }
      ]
    },
    {
      "cell_type": "code",
      "source": [
        "leng = [len(ele) for ele in data_xtrain]\n",
        "plt.figure(figsize = (15,6))\n",
        "plt.subplot(1,2,1)\n",
        "sns.histplot(leng, bins=6)\n",
        "plt.title(\"Histogram of length of Sentences\")\n",
        "plt.xlabel(\"length\")"
      ],
      "metadata": {
        "colab": {
          "base_uri": "https://localhost:8080/",
          "height": 421
        },
        "id": "Cq_vBfFfznxv",
        "outputId": "fefc7698-9231-45ac-d8f6-9f0000401250"
      },
      "execution_count": 17,
      "outputs": [
        {
          "output_type": "execute_result",
          "data": {
            "text/plain": [
              "Text(0.5, 0, 'length')"
            ]
          },
          "metadata": {},
          "execution_count": 17
        },
        {
          "output_type": "display_data",
          "data": {
            "text/plain": [
              "<Figure size 1080x432 with 1 Axes>"
            ],
            "image/png": "[encoded data removed]"
          },
          "metadata": {
            "needs_background": "light"
          }
        }
      ]
    },
    {
      "cell_type": "code",
      "source": [
        "sns.kdeplot(leng)"
      ],
      "metadata": {
        "colab": {
          "base_uri": "https://localhost:8080/",
          "height": 282
        },
        "id": "LkwdvGB4-SFX",
        "outputId": "61c780af-84be-40bc-9271-946c66c79626"
      },
      "execution_count": 18,
      "outputs": [
        {
          "output_type": "execute_result",
          "data": {
            "text/plain": [
              "<matplotlib.axes._subplots.AxesSubplot at 0x7f865bbe7250>"
            ]
          },
          "metadata": {},
          "execution_count": 18
        },
        {
          "output_type": "display_data",
          "data": {
            "text/plain": [
              "<Figure size 432x288 with 1 Axes>"
            ],
            "image/png": "[encoded data removed]"
          },
          "metadata": {
            "needs_background": "light"
          }
        }
      ]
    },
    {
      "cell_type": "code",
      "source": [
        "for i in np.arange(0.1,1.1,0.1):\n",
        "    print('{0} Quantile is {1}'.format(int(i*100),np.quantile(leng, i)))"
      ],
      "metadata": {
        "colab": {
          "base_uri": "https://localhost:8080/"
        },
        "id": "mlncvQaSBHnt",
        "outputId": "8e4cf287-2f4f-408b-c084-9e93c748209a"
      },
      "execution_count": 19,
      "outputs": [
        {
          "output_type": "stream",
          "name": "stdout",
          "text": [
            "10 Quantile is 192.0\n",
            "20 Quantile is 232.0\n",
            "30 Quantile is 264.0\n",
            "40 Quantile is 298.0\n",
            "50 Quantile is 331.0\n",
            "60 Quantile is 384.0\n",
            "70 Quantile is 435.0000000000001\n",
            "80 Quantile is 507.0\n",
            "90 Quantile is 630.0\n",
            "100 Quantile is 3324.0\n"
          ]
        }
      ]
    },
    {
      "cell_type": "markdown",
      "source": [
        "* We take 80 Quantile as words which is 507 we round up and take 500"
      ],
      "metadata": {
        "id": "ztpniZESBSxg"
      }
    },
    {
      "cell_type": "code",
      "source": [
        "max_len = 500\n",
        "# padding\n",
        "data_xtrain_pad = pad_sequences(data_xtrain, maxlen=max_len, padding='post', dtype='int32')\n",
        "data_xtest_pad = pad_sequences(data_xtest, maxlen=max_len, padding='post', dtype='int32')"
      ],
      "metadata": {
        "id": "N_0ktiaIBNik"
      },
      "execution_count": 20,
      "outputs": []
    },
    {
      "cell_type": "code",
      "source": [
        "data_xtrain_pad.shape"
      ],
      "metadata": {
        "colab": {
          "base_uri": "https://localhost:8080/"
        },
        "id": "kyReVZAqB4kI",
        "outputId": "c0720ec9-a2ea-4bfe-f28b-d4f8d3c6ee7d"
      },
      "execution_count": 21,
      "outputs": [
        {
          "output_type": "execute_result",
          "data": {
            "text/plain": [
              "(1341, 500)"
            ]
          },
          "metadata": {},
          "execution_count": 21
        }
      ]
    },
    {
      "cell_type": "code",
      "source": [
        "index = 50\n",
        "print('text: ',X_train[0][:index])\n",
        "print('\\n text to num: ',data_xtrain[0][:index])\n",
        "print('\\n num to padded: ',data_xtrain_pad[0][:index])"
      ],
      "metadata": {
        "colab": {
          "base_uri": "https://localhost:8080/"
        },
        "id": "m2UXk00CCCXi",
        "outputId": "0210f90d-1819-486b-9097-85175fdf6d66"
      },
      "execution_count": 22,
      "outputs": [
        {
          "output_type": "stream",
          "name": "stdout",
          "text": [
            "text:  worldcom exboss launches defence lawyers defending\n",
            "\n",
            " text to num:  [1160, 1139, 1003, 3, 5929, 2, 1160, 1139, 23, 329, 7, 677, 5930, 41, 60, 3665, 48, 2, 77, 20, 440, 2345, 457, 16, 736, 22, 523, 5929, 33, 1228, 47, 28, 9626, 100, 751, 3, 1476, 49, 8270, 23, 16, 736, 9627, 2, 8271, 255, 28, 2, 588, 325]\n",
            "\n",
            " num to padded:  [1278 2582  717  752  149   27  786  319  298    3 3315  161   74  238\n",
            "  139 5935    5 4675    1 1536   27   70 2206    6  983 1098 3883   27\n",
            "  181   11  158  319  148    5  468  143  139    1    6 1160 1139   83\n",
            "  744   48 8281    3 5486    4 7271   64]\n"
          ]
        }
      ]
    },
    {
      "cell_type": "markdown",
      "source": [
        "# Model Building"
      ],
      "metadata": {
        "id": "W5UGgKdtZRAJ"
      }
    },
    {
      "cell_type": "code",
      "source": [
        "from tensorflow.keras.layers import Embedding, LSTM, Input, Dense, Activation, Dropout\n",
        "from tensorflow.keras.utils import to_categorical\n",
        "from tensorflow.keras.callbacks import EarlyStopping \n",
        "from tensorflow.keras.models import Model"
      ],
      "metadata": {
        "id": "Yw7fQDRsCDKz"
      },
      "execution_count": 39,
      "outputs": []
    },
    {
      "cell_type": "code",
      "source": [
        "from sklearn.preprocessing import LabelEncoder\n",
        "lenc = LabelEncoder()\n",
        "y_train_class = lenc.fit_transform(y_train)\n",
        "y_test_class = lenc.transform(y_test)\n",
        "\n",
        "y_train_class = to_categorical(y_train_class, num_classes=5)"
      ],
      "metadata": {
        "id": "OLNeM-VzIEyC"
      },
      "execution_count": 24,
      "outputs": []
    },
    {
      "cell_type": "code",
      "source": [
        "data_xtrain_pad.shape"
      ],
      "metadata": {
        "colab": {
          "base_uri": "https://localhost:8080/"
        },
        "id": "1yyVLHYkJVXb",
        "outputId": "e332d471-015f-4ce4-dcbd-adfb75c47a45"
      },
      "execution_count": 25,
      "outputs": [
        {
          "output_type": "execute_result",
          "data": {
            "text/plain": [
              "(1341, 500)"
            ]
          },
          "metadata": {},
          "execution_count": 25
        }
      ]
    },
    {
      "cell_type": "code",
      "source": [
        "embed_input = len(token.word_index.keys()) + 1"
      ],
      "metadata": {
        "id": "3VTz2RwBJa67"
      },
      "execution_count": 33,
      "outputs": []
    },
    {
      "cell_type": "code",
      "source": [
        "# train acc = 41 te = 35\n",
        "input = Input(shape=(max_len,))\n",
        "embed = Embedding(embed_input, 128)(input)\n",
        "lstm1 = LSTM(100, return_sequences=True, return_state=False)(embed)\n",
        "lstm2 = LSTM(50, dropout=0.2)(lstm1)\n",
        "dense1 = Dense(50)(lstm2)\n",
        "drop1 = Dropout(0.3)(dense1)\n",
        "dense2 = Dense(24)(drop1)\n",
        "dense3 = Dense(5, activation='softmax')(dense2)\n",
        "\n",
        "model = Model(inputs=input, outputs=dense3)"
      ],
      "metadata": {
        "id": "h1mc4AUGC9qE"
      },
      "execution_count": 44,
      "outputs": []
    },
    {
      "cell_type": "code",
      "source": [
        "model.summary()"
      ],
      "metadata": {
        "colab": {
          "base_uri": "https://localhost:8080/"
        },
        "id": "ruNtgb7_DtFO",
        "outputId": "ada3c02e-b8db-4abc-c8a0-aa68e4999ab4"
      },
      "execution_count": 45,
      "outputs": [
        {
          "output_type": "stream",
          "name": "stdout",
          "text": [
            "Model: \"model_4\"\n",
            "_________________________________________________________________\n",
            " Layer (type)                Output Shape              Param #   \n",
            "=================================================================\n",
            " input_5 (InputLayer)        [(None, 500)]             0         \n",
            "                                                                 \n",
            " embedding_4 (Embedding)     (None, 500, 128)          3335936   \n",
            "                                                                 \n",
            " lstm_7 (LSTM)               (None, 500, 100)          91600     \n",
            "                                                                 \n",
            " lstm_8 (LSTM)               (None, 50)                30200     \n",
            "                                                                 \n",
            " dense_10 (Dense)            (None, 50)                2550      \n",
            "                                                                 \n",
            " dropout_3 (Dropout)         (None, 50)                0         \n",
            "                                                                 \n",
            " dense_11 (Dense)            (None, 24)                1224      \n",
            "                                                                 \n",
            " dense_12 (Dense)            (None, 5)                 125       \n",
            "                                                                 \n",
            "=================================================================\n",
            "Total params: 3,461,635\n",
            "Trainable params: 3,461,635\n",
            "Non-trainable params: 0\n",
            "_________________________________________________________________\n"
          ]
        }
      ]
    },
    {
      "cell_type": "code",
      "source": [
        "model.compile(optimizer='adam', loss='categorical_crossentropy', metrics=['accuracy'])\n",
        "callback = EarlyStopping(monitor='val_accuracy', verbose=1, patience=3)\n",
        "\n",
        "history = model.fit(data_xtrain_pad, y_train_class, validation_split=0.1, epochs=70, use_multiprocessing=True)"
      ],
      "metadata": {
        "colab": {
          "base_uri": "https://localhost:8080/"
        },
        "id": "MyDIaA5iQua4",
        "outputId": "1631a810-811e-4555-913f-dce2f6d1a5a1"
      },
      "execution_count": 46,
      "outputs": [
        {
          "output_type": "stream",
          "name": "stdout",
          "text": [
            "Epoch 1/70\n",
            "38/38 [==============================] - 6s 64ms/step - loss: 1.5828 - accuracy: 0.2537 - val_loss: 1.5103 - val_accuracy: 0.3037\n",
            "Epoch 2/70\n",
            "38/38 [==============================] - 2s 41ms/step - loss: 1.5499 - accuracy: 0.2861 - val_loss: 1.5131 - val_accuracy: 0.3111\n",
            "Epoch 3/70\n",
            "38/38 [==============================] - 2s 42ms/step - loss: 1.5848 - accuracy: 0.2944 - val_loss: 1.4995 - val_accuracy: 0.3111\n",
            "Epoch 4/70\n",
            "38/38 [==============================] - 2s 42ms/step - loss: 1.5581 - accuracy: 0.3549 - val_loss: 1.6988 - val_accuracy: 0.1778\n",
            "Epoch 5/70\n",
            "38/38 [==============================] - 2s 44ms/step - loss: 1.4914 - accuracy: 0.3192 - val_loss: 1.4759 - val_accuracy: 0.3556\n",
            "Epoch 6/70\n",
            "38/38 [==============================] - 2s 42ms/step - loss: 1.3885 - accuracy: 0.3872 - val_loss: 1.4497 - val_accuracy: 0.3704\n",
            "Epoch 7/70\n",
            "38/38 [==============================] - 2s 42ms/step - loss: 1.6401 - accuracy: 0.3375 - val_loss: 1.4799 - val_accuracy: 0.3111\n",
            "Epoch 8/70\n",
            "38/38 [==============================] - 2s 41ms/step - loss: 1.4419 - accuracy: 0.3308 - val_loss: 1.4328 - val_accuracy: 0.3407\n",
            "Epoch 9/70\n",
            "38/38 [==============================] - 2s 42ms/step - loss: 1.3425 - accuracy: 0.4071 - val_loss: 1.3643 - val_accuracy: 0.3778\n",
            "Epoch 10/70\n",
            "38/38 [==============================] - 2s 41ms/step - loss: 1.2923 - accuracy: 0.4129 - val_loss: 1.3541 - val_accuracy: 0.3778\n",
            "Epoch 11/70\n",
            "38/38 [==============================] - 2s 42ms/step - loss: 1.2508 - accuracy: 0.4353 - val_loss: 1.3375 - val_accuracy: 0.3852\n",
            "Epoch 12/70\n",
            "38/38 [==============================] - 2s 42ms/step - loss: 1.3240 - accuracy: 0.4138 - val_loss: 1.5507 - val_accuracy: 0.3037\n",
            "Epoch 13/70\n",
            "38/38 [==============================] - 2s 42ms/step - loss: 1.2971 - accuracy: 0.4237 - val_loss: 1.3266 - val_accuracy: 0.4296\n",
            "Epoch 14/70\n",
            "38/38 [==============================] - 2s 42ms/step - loss: 1.1230 - accuracy: 0.4925 - val_loss: 1.3821 - val_accuracy: 0.4074\n",
            "Epoch 15/70\n",
            "38/38 [==============================] - 2s 42ms/step - loss: 1.1285 - accuracy: 0.4959 - val_loss: 1.4196 - val_accuracy: 0.4074\n",
            "Epoch 16/70\n",
            "38/38 [==============================] - 2s 44ms/step - loss: 1.1195 - accuracy: 0.4809 - val_loss: 1.3626 - val_accuracy: 0.4148\n",
            "Epoch 17/70\n",
            "38/38 [==============================] - 2s 42ms/step - loss: 1.0949 - accuracy: 0.5141 - val_loss: 1.3765 - val_accuracy: 0.4296\n",
            "Epoch 18/70\n",
            "38/38 [==============================] - 2s 42ms/step - loss: 1.1254 - accuracy: 0.4934 - val_loss: 1.3045 - val_accuracy: 0.4222\n",
            "Epoch 19/70\n",
            "38/38 [==============================] - 2s 43ms/step - loss: 1.0635 - accuracy: 0.5182 - val_loss: 1.3886 - val_accuracy: 0.4296\n",
            "Epoch 20/70\n",
            "38/38 [==============================] - 2s 42ms/step - loss: 1.0504 - accuracy: 0.5315 - val_loss: 1.1921 - val_accuracy: 0.4444\n",
            "Epoch 21/70\n",
            "38/38 [==============================] - 2s 44ms/step - loss: 1.0167 - accuracy: 0.5199 - val_loss: 1.3880 - val_accuracy: 0.4222\n",
            "Epoch 22/70\n",
            "38/38 [==============================] - 2s 42ms/step - loss: 1.0782 - accuracy: 0.4975 - val_loss: 1.2604 - val_accuracy: 0.3926\n",
            "Epoch 23/70\n",
            "38/38 [==============================] - 2s 42ms/step - loss: 1.0772 - accuracy: 0.5249 - val_loss: 1.3174 - val_accuracy: 0.4370\n",
            "Epoch 24/70\n",
            "38/38 [==============================] - 2s 42ms/step - loss: 1.0141 - accuracy: 0.5265 - val_loss: 1.2086 - val_accuracy: 0.4222\n",
            "Epoch 25/70\n",
            "38/38 [==============================] - 2s 42ms/step - loss: 0.9766 - accuracy: 0.5473 - val_loss: 1.2424 - val_accuracy: 0.3926\n",
            "Epoch 26/70\n",
            "38/38 [==============================] - 2s 42ms/step - loss: 0.9642 - accuracy: 0.5746 - val_loss: 1.0675 - val_accuracy: 0.5926\n",
            "Epoch 27/70\n",
            "38/38 [==============================] - 2s 42ms/step - loss: 1.3384 - accuracy: 0.4834 - val_loss: 1.3582 - val_accuracy: 0.4074\n",
            "Epoch 28/70\n",
            "38/38 [==============================] - 2s 41ms/step - loss: 1.2985 - accuracy: 0.5033 - val_loss: 1.6309 - val_accuracy: 0.4222\n",
            "Epoch 29/70\n",
            "38/38 [==============================] - 2s 44ms/step - loss: 1.1971 - accuracy: 0.4909 - val_loss: 1.3424 - val_accuracy: 0.4444\n",
            "Epoch 30/70\n",
            "38/38 [==============================] - 2s 42ms/step - loss: 1.2205 - accuracy: 0.4395 - val_loss: 1.3605 - val_accuracy: 0.4000\n",
            "Epoch 31/70\n",
            "38/38 [==============================] - 2s 42ms/step - loss: 1.1667 - accuracy: 0.4660 - val_loss: 1.5917 - val_accuracy: 0.3259\n",
            "Epoch 32/70\n",
            "38/38 [==============================] - 2s 42ms/step - loss: 1.1456 - accuracy: 0.4892 - val_loss: 1.3826 - val_accuracy: 0.3926\n",
            "Epoch 33/70\n",
            "38/38 [==============================] - 2s 42ms/step - loss: 1.0585 - accuracy: 0.5207 - val_loss: 1.2358 - val_accuracy: 0.5111\n",
            "Epoch 34/70\n",
            "38/38 [==============================] - 2s 42ms/step - loss: 1.0150 - accuracy: 0.5464 - val_loss: 1.6700 - val_accuracy: 0.4222\n",
            "Epoch 35/70\n",
            "38/38 [==============================] - 2s 42ms/step - loss: 1.5887 - accuracy: 0.3731 - val_loss: 1.4320 - val_accuracy: 0.3481\n",
            "Epoch 36/70\n",
            "38/38 [==============================] - 2s 51ms/step - loss: 1.3014 - accuracy: 0.3881 - val_loss: 1.4632 - val_accuracy: 0.3630\n",
            "Epoch 37/70\n",
            "38/38 [==============================] - 2s 62ms/step - loss: 1.2763 - accuracy: 0.4337 - val_loss: 1.4034 - val_accuracy: 0.3556\n",
            "Epoch 38/70\n",
            "38/38 [==============================] - 2s 54ms/step - loss: 1.3288 - accuracy: 0.4129 - val_loss: 1.3630 - val_accuracy: 0.4222\n",
            "Epoch 39/70\n",
            "38/38 [==============================] - 2s 43ms/step - loss: 1.1997 - accuracy: 0.5000 - val_loss: 1.3833 - val_accuracy: 0.3630\n",
            "Epoch 40/70\n",
            "38/38 [==============================] - 2s 42ms/step - loss: 1.3995 - accuracy: 0.4527 - val_loss: 1.4734 - val_accuracy: 0.2963\n",
            "Epoch 41/70\n",
            "38/38 [==============================] - 2s 43ms/step - loss: 1.2998 - accuracy: 0.3781 - val_loss: 1.3638 - val_accuracy: 0.3778\n",
            "Epoch 42/70\n",
            "38/38 [==============================] - 2s 42ms/step - loss: 1.1458 - accuracy: 0.4154 - val_loss: 1.4137 - val_accuracy: 0.3630\n",
            "Epoch 43/70\n",
            "38/38 [==============================] - 2s 42ms/step - loss: 1.1183 - accuracy: 0.4494 - val_loss: 1.5329 - val_accuracy: 0.4222\n",
            "Epoch 44/70\n",
            "38/38 [==============================] - 2s 41ms/step - loss: 1.1495 - accuracy: 0.4561 - val_loss: 1.3558 - val_accuracy: 0.4074\n",
            "Epoch 45/70\n",
            "38/38 [==============================] - 2s 42ms/step - loss: 1.0705 - accuracy: 0.4693 - val_loss: 1.2931 - val_accuracy: 0.4296\n",
            "Epoch 46/70\n",
            "38/38 [==============================] - 2s 42ms/step - loss: 1.0093 - accuracy: 0.5373 - val_loss: 1.4660 - val_accuracy: 0.4741\n",
            "Epoch 47/70\n",
            "38/38 [==============================] - 2s 42ms/step - loss: 1.0405 - accuracy: 0.5182 - val_loss: 1.3326 - val_accuracy: 0.4519\n",
            "Epoch 48/70\n",
            "38/38 [==============================] - 2s 43ms/step - loss: 0.9653 - accuracy: 0.5464 - val_loss: 1.1949 - val_accuracy: 0.4815\n",
            "Epoch 49/70\n",
            "38/38 [==============================] - 2s 42ms/step - loss: 0.9737 - accuracy: 0.5647 - val_loss: 1.3959 - val_accuracy: 0.4074\n",
            "Epoch 50/70\n",
            "38/38 [==============================] - 2s 42ms/step - loss: 1.0960 - accuracy: 0.4809 - val_loss: 1.3028 - val_accuracy: 0.4444\n",
            "Epoch 51/70\n",
            "38/38 [==============================] - 2s 42ms/step - loss: 0.9791 - accuracy: 0.5299 - val_loss: 1.2729 - val_accuracy: 0.4667\n",
            "Epoch 52/70\n",
            "38/38 [==============================] - 2s 42ms/step - loss: 0.9565 - accuracy: 0.5332 - val_loss: 1.3083 - val_accuracy: 0.4222\n",
            "Epoch 53/70\n",
            "38/38 [==============================] - 2s 42ms/step - loss: 0.9478 - accuracy: 0.5348 - val_loss: 1.2117 - val_accuracy: 0.4815\n",
            "Epoch 54/70\n",
            "38/38 [==============================] - 2s 42ms/step - loss: 0.8929 - accuracy: 0.5705 - val_loss: 1.2175 - val_accuracy: 0.4889\n",
            "Epoch 55/70\n",
            "38/38 [==============================] - 2s 42ms/step - loss: 0.8658 - accuracy: 0.5804 - val_loss: 1.2610 - val_accuracy: 0.4519\n",
            "Epoch 56/70\n",
            "38/38 [==============================] - 2s 42ms/step - loss: 0.8585 - accuracy: 0.5813 - val_loss: 1.2608 - val_accuracy: 0.5185\n",
            "Epoch 57/70\n",
            "38/38 [==============================] - 2s 42ms/step - loss: 0.7988 - accuracy: 0.6352 - val_loss: 1.1637 - val_accuracy: 0.5259\n",
            "Epoch 58/70\n",
            "38/38 [==============================] - 2s 42ms/step - loss: 0.7167 - accuracy: 0.6600 - val_loss: 1.0978 - val_accuracy: 0.5481\n",
            "Epoch 59/70\n",
            "38/38 [==============================] - 2s 41ms/step - loss: 0.6753 - accuracy: 0.6849 - val_loss: 1.1398 - val_accuracy: 0.5556\n",
            "Epoch 60/70\n",
            "38/38 [==============================] - 2s 42ms/step - loss: 0.6580 - accuracy: 0.6758 - val_loss: 1.2689 - val_accuracy: 0.5704\n",
            "Epoch 61/70\n",
            "38/38 [==============================] - 2s 43ms/step - loss: 0.6671 - accuracy: 0.6998 - val_loss: 1.2984 - val_accuracy: 0.5111\n",
            "Epoch 62/70\n",
            "38/38 [==============================] - 2s 42ms/step - loss: 0.6197 - accuracy: 0.7430 - val_loss: 0.8732 - val_accuracy: 0.6963\n",
            "Epoch 63/70\n",
            "38/38 [==============================] - 2s 42ms/step - loss: 0.4188 - accuracy: 0.8308 - val_loss: 0.8457 - val_accuracy: 0.7333\n",
            "Epoch 64/70\n",
            "38/38 [==============================] - 2s 43ms/step - loss: 0.6347 - accuracy: 0.7794 - val_loss: 1.0694 - val_accuracy: 0.5630\n",
            "Epoch 65/70\n",
            "38/38 [==============================] - 2s 42ms/step - loss: 0.6978 - accuracy: 0.7330 - val_loss: 0.8937 - val_accuracy: 0.7556\n",
            "Epoch 66/70\n",
            "38/38 [==============================] - 2s 42ms/step - loss: 0.4682 - accuracy: 0.8549 - val_loss: 0.7954 - val_accuracy: 0.8222\n",
            "Epoch 67/70\n",
            "38/38 [==============================] - 2s 42ms/step - loss: 0.5000 - accuracy: 0.8134 - val_loss: 0.8750 - val_accuracy: 0.7111\n",
            "Epoch 68/70\n",
            "38/38 [==============================] - 2s 43ms/step - loss: 0.3995 - accuracy: 0.8823 - val_loss: 1.0220 - val_accuracy: 0.7037\n",
            "Epoch 69/70\n",
            "38/38 [==============================] - 2s 42ms/step - loss: 0.5090 - accuracy: 0.8483 - val_loss: 0.7170 - val_accuracy: 0.7630\n",
            "Epoch 70/70\n",
            "38/38 [==============================] - 2s 44ms/step - loss: 0.3660 - accuracy: 0.9196 - val_loss: 0.9021 - val_accuracy: 0.8148\n"
          ]
        }
      ]
    },
    {
      "cell_type": "code",
      "source": [
        "model.save('news_model.h5')"
      ],
      "metadata": {
        "id": "dkyFBMOGU0x6"
      },
      "execution_count": 65,
      "outputs": []
    },
    {
      "cell_type": "markdown",
      "source": [
        "# Testing performance of model"
      ],
      "metadata": {
        "id": "kQi0WR_mZUm-"
      }
    },
    {
      "cell_type": "code",
      "source": [
        "import matplotlib.pyplot as plt\n",
        "\n",
        "accuracy = history.history['accuracy']\n",
        "val_accuracy = history.history['val_accuracy']\n",
        "loss = history.history['loss']\n",
        "val_loss = history.history['val_loss']\n",
        "\n",
        "epochs = range(1, len(accuracy) + 1)\n",
        "\n",
        "plt.figure(figsize=(20,5))\n",
        "plt.subplot(121)\n",
        "sns.lineplot(epochs, accuracy, label='Training accuracy')\n",
        "sns.lineplot(epochs, val_accuracy, label='Validation accuracy')\n",
        "plt.title('Training and validation accuracyuracy')\n",
        "plt.legend()\n",
        "\n",
        "\n",
        "plt.subplot(122)\n",
        "sns.lineplot(epochs, loss, label='Training loss')\n",
        "sns.lineplot(epochs, val_loss, label='Validation loss')\n",
        "plt.title('Training and validation loss')\n",
        "plt.legend()\n",
        "\n",
        "plt.show()"
      ],
      "metadata": {
        "colab": {
          "base_uri": "https://localhost:8080/",
          "height": 261
        },
        "id": "pRV8cx1YVIi5",
        "outputId": "4d4908c9-31c2-4e16-e650-f4ee645c828a"
      },
      "execution_count": 64,
      "outputs": [
        {
          "output_type": "display_data",
          "data": {
            "text/plain": [
              "<Figure size 1440x360 with 2 Axes>"
            ],
            "image/png": "[encoded data removed]"
          },
          "metadata": {
            "needs_background": "light"
          }
        }
      ]
    },
    {
      "cell_type": "code",
      "source": [
        "y_true = lenc.transform(y_test)\n",
        "y_pred = model.predict(data_xtest_pad)\n",
        "y_pred = np.argmax(y_pred,axis=1)"
      ],
      "metadata": {
        "id": "J-egrScPYIJ5"
      },
      "execution_count": 72,
      "outputs": []
    },
    {
      "cell_type": "code",
      "source": [
        "from sklearn.metrics import classification_report, confusion_matrix\n",
        "target_names = lenc.classes_\n",
        "print(classification_report(y_true, y_pred, target_names=target_names))"
      ],
      "metadata": {
        "id": "MJN_hY4vLmMb",
        "colab": {
          "base_uri": "https://localhost:8080/"
        },
        "outputId": "5e9fb73c-fdf9-4fd9-ffc3-e6f9501fbe7f"
      },
      "execution_count": 76,
      "outputs": [
        {
          "output_type": "stream",
          "name": "stdout",
          "text": [
            "               precision    recall  f1-score   support\n",
            "\n",
            "     business       0.80      0.83      0.81        42\n",
            "entertainment       0.61      0.71      0.65        24\n",
            "     politics       0.92      0.79      0.85        28\n",
            "        sport       1.00      1.00      1.00        26\n",
            "         tech       0.96      0.90      0.93        29\n",
            "\n",
            "     accuracy                           0.85       149\n",
            "    macro avg       0.86      0.84      0.85       149\n",
            " weighted avg       0.86      0.85      0.85       149\n",
            "\n"
          ]
        }
      ]
    },
    {
      "cell_type": "code",
      "source": [
        "plt.figure(figsize=(10,7))\n",
        "sns.heatmap(confusion_matrix(y_true, y_pred), annot=True, linewidths=.5)"
      ],
      "metadata": {
        "colab": {
          "base_uri": "https://localhost:8080/",
          "height": 449
        },
        "id": "hUd6OsgUYuT8",
        "outputId": "f309c5a4-6a39-43b5-d118-8065ea932d8a"
      },
      "execution_count": 84,
      "outputs": [
        {
          "output_type": "execute_result",
          "data": {
            "text/plain": [
              "<matplotlib.axes._subplots.AxesSubplot at 0x7f85579d2fd0>"
            ]
          },
          "metadata": {},
          "execution_count": 84
        },
        {
          "output_type": "display_data",
          "data": {
            "text/plain": [
              "<Figure size 720x504 with 2 Axes>"
            ],
            "image/png": "[encoded data removed]"
          },
          "metadata": {
            "needs_background": "light"
          }
        }
      ]
    },
    {
      "cell_type": "markdown",
      "source": [
        "# Pipeline"
      ],
      "metadata": {
        "id": "SRHZPJYOb5BX"
      }
    },
    {
      "cell_type": "code",
      "source": [
        "from tensorflow.keras.models import load_model \n",
        "news_model = load_model('/content/news_model.h5')"
      ],
      "metadata": {
        "id": "oFmb64gal4PP"
      },
      "execution_count": 166,
      "outputs": []
    },
    {
      "cell_type": "code",
      "source": [
        "# loading tokenizer\n",
        "with open('tokenizer.pickle', 'rb') as handle:\n",
        "    token = pickle.load(handle)"
      ],
      "metadata": {
        "id": "zdkQwERAb7Ky"
      },
      "execution_count": 167,
      "outputs": []
    },
    {
      "cell_type": "code",
      "source": [
        "classes = ['business', 'entertainment', 'politics', 'sport', 'tech']"
      ],
      "metadata": {
        "id": "CgE7gpkLkKbO"
      },
      "execution_count": 168,
      "outputs": []
    },
    {
      "cell_type": "code",
      "source": [
        "# ref : https://economictimes.indiatimes.com/markets/stocks/news/stocks-in-the-news-wipro-indusind-bank-srf-havells-ntpc-and-yes-bank/articleshow/93016213.cms\n",
        "new_news = '''Wipro: The IT major reported a 21 per cent decline in its June quarter net profit as higher employee-related costs pushed up the firm's overall expenses. Consolidated net profit at Rs 2,563.6 crore in April-June was 20.6 per cent, lower than Rs 3,242.6 crore net profit in the same period a year back.\n",
        "NTPC: The state-owned power giant has inked a pact with Moroccan Agency for Sustainable Energy (MASEN) for cooperation in renewable energy. It signed an MoU with MASEN for cooperation in the renewable energy sector during the 17th CII EXIM Conclave on India Africa Growth Partnership held in New Delhi from 19th-20th July 2022.'''"
      ],
      "metadata": {
        "id": "JSF8TMEGek7y"
      },
      "execution_count": 169,
      "outputs": []
    },
    {
      "cell_type": "code",
      "source": [
        "# apply preprocessing\n",
        "new_news = preprocess(new_news)\n",
        "# to create make suitable for model\n",
        "new_news = new_news , '''news'''\n",
        "\n",
        "# text to num\n",
        "news_text = token.texts_to_sequences(new_news)\n",
        "# padding\n",
        "max_len = 500\n",
        "news_text_pad = pad_sequences(news_text, maxlen=max_len, padding='post', dtype='int32')"
      ],
      "metadata": {
        "id": "8b7CITB_e83u"
      },
      "execution_count": 170,
      "outputs": []
    },
    {
      "cell_type": "code",
      "source": [
        "classes[np.argmax(news_model.predict(new_text_pad)[0])]"
      ],
      "metadata": {
        "colab": {
          "base_uri": "https://localhost:8080/",
          "height": 37
        },
        "id": "hQNjbQopb6vN",
        "outputId": "291892c9-c23c-4a08-fc39-3b3e5aa1fd28"
      },
      "execution_count": 172,
      "outputs": [
        {
          "output_type": "execute_result",
          "data": {
            "text/plain": [
              "'business'"
            ],
            "application/vnd.google.colaboratory.intrinsic+json": {
              "type": "string"
            }
          },
          "metadata": {},
          "execution_count": 172
        }
      ]
    },
    {
      "cell_type": "markdown",
      "source": [
        "# Future Work\n",
        "\n",
        "- we have very less data we can increase the size of dataset and also we can add more categories"
      ],
      "metadata": {
        "id": "PF8w8-hOaKq9"
      }
    }
  ]
}